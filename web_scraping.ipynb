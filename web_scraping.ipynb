{
  "nbformat": 4,
  "nbformat_minor": 0,
  "metadata": {
    "colab": {
      "name": "Untitled4.ipynb",
      "provenance": [],
      "authorship_tag": "ABX9TyNfnev/gPtMRxkJRVXOdjNS",
      "include_colab_link": true
    },
    "kernelspec": {
      "name": "python3",
      "display_name": "Python 3"
    }
  },
  "cells": [
    {
      "cell_type": "markdown",
      "metadata": {
        "id": "view-in-github",
        "colab_type": "text"
      },
      "source": [
        "<a href=\"https://colab.research.google.com/github/gabordun/Python_workshops/blob/master/web_scraping.ipynb\" target=\"_parent\"><img src=\"https://colab.research.google.com/assets/colab-badge.svg\" alt=\"Open In Colab\"/></a>"
      ]
    },
    {
      "cell_type": "code",
      "metadata": {
        "id": "Ivafqztuo-Os",
        "colab_type": "code",
        "colab": {
          "base_uri": "https://localhost:8080/",
          "height": 381
        },
        "outputId": "95a8b3d1-547a-4c1b-a59f-fe856643a591"
      },
      "source": [
        "import numpy as np\n",
        "import pandas as pd\n",
        "import csv\n",
        "from bs4 import BeautifulSoup\n",
        "import re\n",
        "\n",
        "#import requests\n",
        "from urllib import request\n",
        "import requests\n",
        "import time\n",
        "\n",
        "seed_urls = ['https://welt.de',\n",
        "             'https://nytimes.com',\n",
        "             'https://theguardian.com',\n",
        "             'https://lefigaro.fr',\n",
        "             'https://elpais.com']\n",
        "\n",
        "for url in seed_urls:\n",
        "  basic=request.urlopen(url)\n",
        "  soup=BeautifulSoup(basic, 'html.parser')\n",
        "\n",
        "  #b = soup.prettify()\n",
        "  #print(b)\n",
        "\n",
        "  x = soup.find_all(\"tr\")\n",
        "  rowcounter = 0\n",
        "  for item in x:\n",
        "    rowcounter += 1\n",
        "  y = soup.find_all('a')\n",
        "  colcounter = 0\n",
        "  for item in y:\n",
        "    colcounter += 1\n",
        "\n",
        "  print(rowcounter)\n",
        "  print(colcounter)\n",
        "\n",
        "  result = []\n",
        "  for i in range(0,colcounter):\n",
        "    a=y[i].get_text(\"title\").replace(\"title\",\" \").replace(\"\\n\",\" \")\n",
        "  result.append(a)\n",
        " \n",
        "  df = pd.DataFrame(data = result)\n",
        "  print(df)\n",
        "\n",
        "#df.to_csv(\"formula1.csv\")\n",
        "#uploaded = drive.CreateFile({'title': 'formula1.csv'})\n",
        "#uploaded.SetContentFile(\"formula1.csv\")\n",
        "#uploaded.Upload()"
      ],
      "execution_count": 27,
      "outputs": [
        {
          "output_type": "stream",
          "text": [
            "0\n",
            "479\n",
            "              0\n",
            "0  WELT Edition\n",
            "0\n",
            "133\n",
            "               0\n",
            "0  Subscriptions\n",
            "0\n",
            "373\n",
            "                               0\n",
            "0    Back to top                \n",
            "0\n",
            "567\n",
            "         0\n",
            "0  Sitemap\n",
            "0\n",
            "333\n",
            "     0\n",
            "0  RSS\n"
          ],
          "name": "stdout"
        }
      ]
    },
    {
      "cell_type": "code",
      "metadata": {
        "id": "t60DWdLQpTfg",
        "colab_type": "code",
        "colab": {
          "base_uri": "https://localhost:8080/",
          "height": 371
        },
        "outputId": "e36db067-4a63-4dea-af33-28b2903ca13e"
      },
      "source": [
        "import numpy as np\n",
        "import pandas as pd\n",
        "import csv\n",
        "from bs4 import BeautifulSoup\n",
        "import re\n",
        "\n",
        "#import requests\n",
        "from urllib import request\n",
        "import requests\n",
        "import time\n",
        "\n",
        "basic=request.urlopen(\"https://index.hu\")\n",
        "soup=BeautifulSoup(basic, 'html.parser')\n",
        "\n",
        "#b = soup.prettify()\n",
        "#print(b)\n",
        "\n",
        "x = re.findall(r'\\w+vírus', soup)\n",
        "rowcounter = 0\n",
        "for item in x:\n",
        "  rowcounter += 1\n",
        "\n",
        "print(rowcounter)\n",
        "\n",
        "result = []\n",
        "for i in range(0,rowcounter):\n",
        "  a=x[i].get_text()\n",
        "  result.append(a)\n",
        " \n",
        "df = pd.DataFrame( data = result)\n",
        "df\n",
        "\n",
        "#df.to_csv(\"formula1.csv\")\n",
        "#uploaded = drive.CreateFile({'title': 'formula1.csv'})\n",
        "#uploaded.SetContentFile(\"formula1.csv\")\n",
        "#uploaded.Upload()"
      ],
      "execution_count": 6,
      "outputs": [
        {
          "output_type": "error",
          "ename": "TypeError",
          "evalue": "ignored",
          "traceback": [
            "\u001b[0;31m---------------------------------------------------------------------------\u001b[0m",
            "\u001b[0;31mTypeError\u001b[0m                                 Traceback (most recent call last)",
            "\u001b[0;32m<ipython-input-6-0b5dbb2e63e1>\u001b[0m in \u001b[0;36m<module>\u001b[0;34m()\u001b[0m\n\u001b[1;32m     16\u001b[0m \u001b[0;31m#print(b)\u001b[0m\u001b[0;34m\u001b[0m\u001b[0;34m\u001b[0m\u001b[0;34m\u001b[0m\u001b[0m\n\u001b[1;32m     17\u001b[0m \u001b[0;34m\u001b[0m\u001b[0m\n\u001b[0;32m---> 18\u001b[0;31m \u001b[0mx\u001b[0m \u001b[0;34m=\u001b[0m \u001b[0mre\u001b[0m\u001b[0;34m.\u001b[0m\u001b[0mfindall\u001b[0m\u001b[0;34m(\u001b[0m\u001b[0;34mr'\\w+vírus'\u001b[0m\u001b[0;34m,\u001b[0m \u001b[0msoup\u001b[0m\u001b[0;34m)\u001b[0m\u001b[0;34m\u001b[0m\u001b[0;34m\u001b[0m\u001b[0m\n\u001b[0m\u001b[1;32m     19\u001b[0m \u001b[0mrowcounter\u001b[0m \u001b[0;34m=\u001b[0m \u001b[0;36m0\u001b[0m\u001b[0;34m\u001b[0m\u001b[0;34m\u001b[0m\u001b[0m\n\u001b[1;32m     20\u001b[0m \u001b[0;32mfor\u001b[0m \u001b[0mitem\u001b[0m \u001b[0;32min\u001b[0m \u001b[0mx\u001b[0m\u001b[0;34m:\u001b[0m\u001b[0;34m\u001b[0m\u001b[0;34m\u001b[0m\u001b[0m\n",
            "\u001b[0;32m/usr/lib/python3.6/re.py\u001b[0m in \u001b[0;36mfindall\u001b[0;34m(pattern, string, flags)\u001b[0m\n\u001b[1;32m    220\u001b[0m \u001b[0;34m\u001b[0m\u001b[0m\n\u001b[1;32m    221\u001b[0m     Empty matches are included in the result.\"\"\"\n\u001b[0;32m--> 222\u001b[0;31m     \u001b[0;32mreturn\u001b[0m \u001b[0m_compile\u001b[0m\u001b[0;34m(\u001b[0m\u001b[0mpattern\u001b[0m\u001b[0;34m,\u001b[0m \u001b[0mflags\u001b[0m\u001b[0;34m)\u001b[0m\u001b[0;34m.\u001b[0m\u001b[0mfindall\u001b[0m\u001b[0;34m(\u001b[0m\u001b[0mstring\u001b[0m\u001b[0;34m)\u001b[0m\u001b[0;34m\u001b[0m\u001b[0;34m\u001b[0m\u001b[0m\n\u001b[0m\u001b[1;32m    223\u001b[0m \u001b[0;34m\u001b[0m\u001b[0m\n\u001b[1;32m    224\u001b[0m \u001b[0;32mdef\u001b[0m \u001b[0mfinditer\u001b[0m\u001b[0;34m(\u001b[0m\u001b[0mpattern\u001b[0m\u001b[0;34m,\u001b[0m \u001b[0mstring\u001b[0m\u001b[0;34m,\u001b[0m \u001b[0mflags\u001b[0m\u001b[0;34m=\u001b[0m\u001b[0;36m0\u001b[0m\u001b[0;34m)\u001b[0m\u001b[0;34m:\u001b[0m\u001b[0;34m\u001b[0m\u001b[0;34m\u001b[0m\u001b[0m\n",
            "\u001b[0;31mTypeError\u001b[0m: expected string or bytes-like object"
          ]
        }
      ]
    }
  ]
}