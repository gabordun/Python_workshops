{
  "nbformat": 4,
  "nbformat_minor": 0,
  "metadata": {
    "colab": {
      "name": "Untitled0.ipynb",
      "version": "0.3.2",
      "provenance": [],
      "include_colab_link": true
    },
    "kernelspec": {
      "name": "python3",
      "display_name": "Python 3"
    }
  },
  "cells": [
    {
      "cell_type": "markdown",
      "metadata": {
        "id": "view-in-github",
        "colab_type": "text"
      },
      "source": [
        "<a href=\"https://colab.research.google.com/github/gabordun/Python_workshops/blob/master/workshop0.ipynb\" target=\"_parent\"><img src=\"https://colab.research.google.com/assets/colab-badge.svg\" alt=\"Open In Colab\"/></a>"
      ]
    },
    {
      "cell_type": "code",
      "metadata": {
        "id": "-zO30djf-Lew",
        "colab_type": "code",
        "colab": {
          "base_uri": "https://localhost:8080/",
          "height": 68
        },
        "outputId": "00494798-7eb6-4a4f-ab83-431efc336240"
      },
      "source": [
        "#Q1\n",
        "\n",
        "birthy = [1999, 1995, 2005, 2010, 2007, 2006, 1994, 1996, 1979, 2008]\n",
        "currenty = 2019\n",
        "\n",
        "print (currenty)\n",
        "print (birthy)\n",
        "\n",
        "import numpy as np\n",
        "\n",
        "def age():\n",
        "  result = np.array(currenty)-np.array(birthy)\n",
        "  return (result)\n",
        "  \n",
        "age()\n",
        "AGE=list(age())\n",
        "AGE\n"
      ],
      "execution_count": 1,
      "outputs": [
        {
          "output_type": "stream",
          "text": [
            "2019\n",
            "[1999, 1995, 2005, 2010, 2007, 2006, 1994, 1996, 1979, 2008]\n"
          ],
          "name": "stdout"
        },
        {
          "output_type": "execute_result",
          "data": {
            "text/plain": [
              "[20, 24, 14, 9, 12, 13, 25, 23, 40, 11]"
            ]
          },
          "metadata": {
            "tags": []
          },
          "execution_count": 1
        }
      ]
    },
    {
      "cell_type": "code",
      "metadata": {
        "id": "uthBQUao-VxE",
        "colab_type": "code",
        "colab": {
          "base_uri": "https://localhost:8080/",
          "height": 68
        },
        "outputId": "85e3b2da-33a9-4a48-c2f1-c62a23dd1ea5"
      },
      "source": [
        "#experiments\n",
        "\n",
        "print(max(AGE))\n",
        "print(min(AGE))\n",
        "\n",
        "MAX=max(age())\n",
        "MIN=min(age())\n",
        "\n",
        "result2 = [x for x in AGE if x != MAX]\n",
        "result2 = [x for x in result2 if x != MIN]\n",
        "print(result2)"
      ],
      "execution_count": 2,
      "outputs": [
        {
          "output_type": "stream",
          "text": [
            "40\n",
            "9\n",
            "[20, 24, 14, 12, 13, 25, 23, 11]\n"
          ],
          "name": "stdout"
        }
      ]
    },
    {
      "cell_type": "code",
      "metadata": {
        "id": "Mp-KWKjZ-bFn",
        "colab_type": "code",
        "colab": {
          "base_uri": "https://localhost:8080/",
          "height": 34
        },
        "outputId": "028472dd-d419-4207-bca7-3134c3887eec"
      },
      "source": [
        "#Q2\n",
        "\n",
        "def outlier():\n",
        "  MAX=max(age())\n",
        "  MIN=min(age())\n",
        "\n",
        "  result2 = [x for x in AGE if x != MAX]\n",
        "  result2 = [x for x in result2 if x != MIN]\n",
        "  return (result2)\n",
        "\n",
        "print(outlier())"
      ],
      "execution_count": 3,
      "outputs": [
        {
          "output_type": "stream",
          "text": [
            "[20, 24, 14, 12, 13, 25, 23, 11]\n"
          ],
          "name": "stdout"
        }
      ]
    },
    {
      "cell_type": "code",
      "metadata": {
        "id": "g5fX0Rxi-myO",
        "colab_type": "code",
        "colab": {
          "base_uri": "https://localhost:8080/",
          "height": 34
        },
        "outputId": "bf09816c-46c3-4c23-a444-8e20fc5893ac"
      },
      "source": [
        "#Q3\n",
        "\n",
        "berlin = [15, 13, 16, 18, 19, 15,9, 10]\n",
        "munich = [13, 15, 20, 19, 17, 10, 16, 15]\n",
        "\n",
        "def commonage():\n",
        "  result3= [x for x in berlin if x in munich]\n",
        "  return (result3)\n",
        "\n",
        "print(commonage())"
      ],
      "execution_count": 4,
      "outputs": [
        {
          "output_type": "stream",
          "text": [
            "[15, 13, 16, 19, 15, 10]\n"
          ],
          "name": "stdout"
        }
      ]
    },
    {
      "cell_type": "code",
      "metadata": {
        "id": "A___-hxL-oQO",
        "colab_type": "code",
        "colab": {
          "base_uri": "https://localhost:8080/",
          "height": 34
        },
        "outputId": "632213ad-4d7d-4183-8021-53899578ca41"
      },
      "source": [
        "#Q4\n",
        "\n",
        "berlin = [15, 13, 16, 18, 19, 15,9, 10]\n",
        "munich = [13, 15, 20, 19, 17, 10, 16, 15]\n",
        "\n",
        "def uniquecommonage():\n",
        "  result3= [x for x in berlin if x in munich]\n",
        "  return (set(result3))\n",
        "\n",
        "print(uniquecommonage())"
      ],
      "execution_count": 5,
      "outputs": [
        {
          "output_type": "stream",
          "text": [
            "{10, 13, 15, 16, 19}\n"
          ],
          "name": "stdout"
        }
      ]
    },
    {
      "cell_type": "code",
      "metadata": {
        "id": "Cp32NA8F-ofs",
        "colab_type": "code",
        "colab": {
          "base_uri": "https://localhost:8080/",
          "height": 34
        },
        "outputId": "125b720b-3a69-406c-d108-5ddc5d954610"
      },
      "source": [
        "#Q5\n",
        "\n",
        "values=[15,13,16,18,19,15,10]\n",
        "c=15\n",
        "\n",
        "def presentage():\n",
        "  \n",
        "  if c in values:\n",
        "   return True\n",
        "  else:\n",
        "   return False\n",
        "\n",
        "print(presentage())"
      ],
      "execution_count": 6,
      "outputs": [
        {
          "output_type": "stream",
          "text": [
            "True\n"
          ],
          "name": "stdout"
        }
      ]
    }
  ]
}