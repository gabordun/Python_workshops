{
  "nbformat": 4,
  "nbformat_minor": 0,
  "metadata": {
    "colab": {
      "name": "Untitled4.ipynb",
      "provenance": [],
      "include_colab_link": true
    },
    "kernelspec": {
      "name": "python3",
      "display_name": "Python 3"
    }
  },
  "cells": [
    {
      "cell_type": "markdown",
      "metadata": {
        "id": "view-in-github",
        "colab_type": "text"
      },
      "source": [
        "<a href=\"https://colab.research.google.com/github/gabordun/Python_workshops/blob/master/workshop4.ipynb\" target=\"_parent\"><img src=\"https://colab.research.google.com/assets/colab-badge.svg\" alt=\"Open In Colab\"/></a>"
      ]
    },
    {
      "cell_type": "code",
      "metadata": {
        "id": "aZR1CSQot1JT",
        "colab_type": "code",
        "outputId": "44a80fad-21c6-45ee-c3c4-e5f07c72883b",
        "colab": {
          "base_uri": "https://localhost:8080/",
          "height": 153
        }
      },
      "source": [
        "#Shekhar's Python workshop No4\n",
        "#Q1\n",
        "\n",
        "population = int(input('population?'))\n",
        "percent = float(input('yearly growth in percentage?'))\n",
        "percent = percent/100\n",
        "newcomers = int(input('newcomers?'))\n",
        "target = int(input('target population?'))\n",
        "\n",
        "print('The inputs are:')\n",
        "print(population,percent,newcomers,target)\n",
        "\n",
        "target1 = [target]\n",
        "for i in range(0,100):\n",
        " target1.append(target1[i]/(1+percent)-newcomers)\n",
        " if target1[i+1] < population:\n",
        "  break\n",
        "print('The number of required years:')\n",
        "print(len(target1)-1)"
      ],
      "execution_count": 0,
      "outputs": [
        {
          "output_type": "stream",
          "text": [
            "population?10000\n",
            "yearly growth in percentage?10\n",
            "newcomers?300\n",
            "target population?100000\n",
            "The inputs are:\n",
            "10000 0.1 300 100000\n",
            "The number of required years:\n",
            "22\n"
          ],
          "name": "stdout"
        }
      ]
    },
    {
      "cell_type": "code",
      "metadata": {
        "id": "vG0KtemZ7d-E",
        "colab_type": "code",
        "outputId": "68781c81-5ed6-40cf-ff96-77735ad34252",
        "colab": {
          "base_uri": "https://localhost:8080/",
          "height": 51
        }
      },
      "source": [
        "#Q2\n",
        "\n",
        "#before the first run please update the below package\n",
        "\n",
        "#import nltk\n",
        "#nltk.download('words')\n",
        "#english_vocab = set(w.lower() for w in nltk.corpus.words.words())\n",
        "\n",
        "inp=str(input('input? please give me an alphanumeric, spaceless, lowercased string'))\n",
        "\n",
        "def maxmatch(inp):\n",
        " if inp in english_vocab:\n",
        "   return(inp)\n",
        " else:\n",
        "   outlist = []\n",
        "   while inp !=\"\":\n",
        "    sumlist = []\n",
        "    for i in range(1,len(inp)+1):\n",
        "     sumlist.append(inp[0:i])\n",
        "    sumlist.reverse()\n",
        "    for j in range(0, len(sumlist)):\n",
        "     if sumlist[j] in english_vocab:\n",
        "      outlist.append(sumlist[j])\n",
        "      break\n",
        "    inp = inp.replace(outlist[-1],'')\n",
        "   if inp == \"\":\n",
        "    return(outlist)\n",
        "    \n",
        "\n",
        "print(maxmatch(inp))\n",
        "\n"
      ],
      "execution_count": 0,
      "outputs": [
        {
          "output_type": "stream",
          "text": [
            "input? please give me an alphanumeric, spaceless, lowercased stringhappynightzi\n",
            "['happy', 'night', 'z', 'i']\n"
          ],
          "name": "stdout"
        }
      ]
    },
    {
      "cell_type": "code",
      "metadata": {
        "id": "kP0k2Nwoh1eI",
        "colab_type": "code",
        "outputId": "93fc98e8-7084-4fb9-dd08-e4d45af07424",
        "colab": {
          "base_uri": "https://localhost:8080/",
          "height": 34
        }
      },
      "source": [
        "#Q3\n",
        "\n",
        "inp = [7, 6, 5, 4, 3, 2, 1]\n",
        "\n",
        "def circ_sort(inp):\n",
        " flag = 0\n",
        " for i in range(0,len(inp)):\n",
        "    if inp[i-1]>inp[i]:\n",
        "      flag += 1\n",
        " if flag > 1:\n",
        "     return False\n",
        " else:\n",
        "      return True\n",
        "\n",
        "print(circ_sort(inp))"
      ],
      "execution_count": 0,
      "outputs": [
        {
          "output_type": "stream",
          "text": [
            "False\n"
          ],
          "name": "stdout"
        }
      ]
    },
    {
      "cell_type": "code",
      "metadata": {
        "id": "IlbI6-afPxkc",
        "colab_type": "code",
        "outputId": "abd30df3-c66e-4d55-f419-6abde42cce04",
        "colab": {
          "base_uri": "https://localhost:8080/",
          "height": 35
        }
      },
      "source": [
        "#Q4\n",
        "\n",
        "inp = [25,25,50,25,25,100]\n",
        "\n",
        "def sell_ticket(inp):\n",
        " flag = 0\n",
        " for i in range(0,len(inp)):\n",
        "  if inp[i] == 25:\n",
        "    flag += 1\n",
        "  if inp[i] == 50:\n",
        "    flag += -1\n",
        "  if inp[i] == 100:\n",
        "    flag += -3\n",
        "  if flag < 0:\n",
        "    break\n",
        " \n",
        " if flag < 0:\n",
        "  return False\n",
        " else:\n",
        "  return True\n",
        "   \n",
        "\n",
        "print(sell_ticket(inp))"
      ],
      "execution_count": 91,
      "outputs": [
        {
          "output_type": "stream",
          "text": [
            "True\n"
          ],
          "name": "stdout"
        }
      ]
    },
    {
      "cell_type": "code",
      "metadata": {
        "id": "w0Yy0tPuV2dM",
        "colab_type": "code",
        "outputId": "21e450d6-48d7-4a3d-922f-4c0a50f142c4",
        "colab": {
          "base_uri": "https://localhost:8080/",
          "height": 35
        }
      },
      "source": [
        "#Q5\n",
        "\n",
        "inp=[3,\n",
        "     'i','like','this','program','very','much',\n",
        "     'pqr','mno']\n",
        "\n",
        "def reversestrings(inp):\n",
        "  if 0 <= inp[0]<=10 and 0<=len(inp)<=2000:\n",
        "   inp2=[]\n",
        "   out=[]\n",
        "   inp2 = inp[1:len(inp)]\n",
        "  out=[x for x in inp2 [::-1]]\n",
        "  return(out)\n",
        "\n",
        "print(reversestrings(inp))"
      ],
      "execution_count": 115,
      "outputs": [
        {
          "output_type": "stream",
          "text": [
            "['mno', 'pqr', 'much', 'very', 'program', 'this', 'like', 'i']\n"
          ],
          "name": "stdout"
        }
      ]
    }
  ]
}