{
  "nbformat": 4,
  "nbformat_minor": 0,
  "metadata": {
    "colab": {
      "name": "Untitled4.ipynb",
      "provenance": [],
      "include_colab_link": true
    },
    "kernelspec": {
      "name": "python3",
      "display_name": "Python 3"
    }
  },
  "cells": [
    {
      "cell_type": "markdown",
      "metadata": {
        "id": "view-in-github",
        "colab_type": "text"
      },
      "source": [
        "<a href=\"https://colab.research.google.com/github/gabordun/Python_workshops/blob/master/workshop4.ipynb\" target=\"_parent\"><img src=\"https://colab.research.google.com/assets/colab-badge.svg\" alt=\"Open In Colab\"/></a>"
      ]
    },
    {
      "cell_type": "code",
      "metadata": {
        "id": "aZR1CSQot1JT",
        "colab_type": "code",
        "outputId": "44a80fad-21c6-45ee-c3c4-e5f07c72883b",
        "colab": {
          "base_uri": "https://localhost:8080/",
          "height": 153
        }
      },
      "source": [
        "#Shekhar's Python workshop No4\n",
        "#Q1\n",
        "\n",
        "population = int(input('population?'))\n",
        "percent = float(input('yearly growth in percentage?'))\n",
        "percent = percent/100\n",
        "newcomers = int(input('newcomers?'))\n",
        "target = int(input('target population?'))\n",
        "\n",
        "print('The inputs are:')\n",
        "print(population,percent,newcomers,target)\n",
        "\n",
        "target1 = [target]\n",
        "for i in range(0,100):\n",
        " target1.append(target1[i]/(1+percent)-newcomers)\n",
        " if target1[i+1] < population:\n",
        "  break\n",
        "print('The number of required years:')\n",
        "print(len(target1)-1)"
      ],
      "execution_count": 0,
      "outputs": [
        {
          "output_type": "stream",
          "text": [
            "population?10000\n",
            "yearly growth in percentage?10\n",
            "newcomers?300\n",
            "target population?100000\n",
            "The inputs are:\n",
            "10000 0.1 300 100000\n",
            "The number of required years:\n",
            "22\n"
          ],
          "name": "stdout"
        }
      ]
    },
    {
      "cell_type": "code",
      "metadata": {
        "id": "vG0KtemZ7d-E",
        "colab_type": "code",
        "outputId": "f34f9ca4-c59a-4cf1-fa38-a000f819ce3f",
        "colab": {
          "base_uri": "https://localhost:8080/",
          "height": 51
        }
      },
      "source": [
        "#Q2\n",
        "\n",
        "#before the first run please update the below package\n",
        "\n",
        "#import nltk\n",
        "#nltk.download('words')\n",
        "#english_vocab = set(w.lower() for w in nltk.corpus.words.words())\n",
        "\n",
        "inp=str(input('input? please give me an alphanumeric, spaceless, lowercased string'))\n",
        "\n",
        "def maxmatch(inp):\n",
        " if inp in english_vocab:\n",
        "   return(inp)\n",
        " else:\n",
        "   outlist = []\n",
        "   while inp !=\"\":\n",
        "    sumlist = []\n",
        "    for i in range(1,len(inp)+1):\n",
        "     sumlist.append(inp[0:i])\n",
        "    sumlist.reverse()\n",
        "    for j in range(0, len(sumlist)):\n",
        "     if sumlist[j] in english_vocab:\n",
        "      outlist.append(sumlist[j])\n",
        "      break\n",
        "    inp = inp.replace(outlist[-1],'')\n",
        "   if inp == \"\":\n",
        "    return(outlist)\n",
        "    \n",
        "\n",
        "print(maxmatch(inp))\n",
        "\n"
      ],
      "execution_count": 122,
      "outputs": [
        {
          "output_type": "stream",
          "text": [
            "input? please give me an alphanumeric, spaceless, lowercased stringloudnessdcar\n",
            "['loudness', 'd', 'car']\n"
          ],
          "name": "stdout"
        }
      ]
    },
    {
      "cell_type": "code",
      "metadata": {
        "id": "B2Ivup5ELbyH",
        "colab_type": "code",
        "outputId": "bb969234-80a0-4523-ba2d-8fda8648c5b9",
        "colab": {
          "base_uri": "https://localhost:8080/",
          "height": 231
        }
      },
      "source": [
        "#helpcell\n",
        "\n",
        "inp = 'vehicle'\n",
        "outlist = []\n",
        "\n",
        "while inp !=\"\":\n",
        " sumlist = []\n",
        " \n",
        " for i in range(1,len(inp)+1):\n",
        "    sumlist.append(inp[0:i])\n",
        " sumlist.reverse()\n",
        "print(sumlist)\n",
        "for j in range(0, len(sumlist)):\n",
        "  if sumlist[j] in english_vocab:\n",
        "   outlist.append(sumlist[j])\n",
        "   break\n",
        "print(outlist)\n",
        "inp= inp.replace(outlist[0],'')\n",
        "print(inp)\n",
        "#if inp == \"\":\n",
        "#  break\n"
      ],
      "execution_count": 119,
      "outputs": [
        {
          "output_type": "error",
          "ename": "KeyboardInterrupt",
          "evalue": "ignored",
          "traceback": [
            "\u001b[0;31m---------------------------------------------------------------------------\u001b[0m",
            "\u001b[0;31mKeyboardInterrupt\u001b[0m                         Traceback (most recent call last)",
            "\u001b[0;32m<ipython-input-119-25a160f9ea1f>\u001b[0m in \u001b[0;36m<module>\u001b[0;34m()\u001b[0m\n\u001b[1;32m      7\u001b[0m \u001b[0;34m\u001b[0m\u001b[0m\n\u001b[1;32m      8\u001b[0m  \u001b[0;32mfor\u001b[0m \u001b[0mi\u001b[0m \u001b[0;32min\u001b[0m \u001b[0mrange\u001b[0m\u001b[0;34m(\u001b[0m\u001b[0;36m1\u001b[0m\u001b[0;34m,\u001b[0m\u001b[0mlen\u001b[0m\u001b[0;34m(\u001b[0m\u001b[0minp\u001b[0m\u001b[0;34m)\u001b[0m\u001b[0;34m+\u001b[0m\u001b[0;36m1\u001b[0m\u001b[0;34m)\u001b[0m\u001b[0;34m:\u001b[0m\u001b[0;34m\u001b[0m\u001b[0;34m\u001b[0m\u001b[0m\n\u001b[0;32m----> 9\u001b[0;31m     \u001b[0msumlist\u001b[0m\u001b[0;34m.\u001b[0m\u001b[0mappend\u001b[0m\u001b[0;34m(\u001b[0m\u001b[0minp\u001b[0m\u001b[0;34m[\u001b[0m\u001b[0;36m0\u001b[0m\u001b[0;34m:\u001b[0m\u001b[0mi\u001b[0m\u001b[0;34m]\u001b[0m\u001b[0;34m)\u001b[0m\u001b[0;34m\u001b[0m\u001b[0;34m\u001b[0m\u001b[0m\n\u001b[0m\u001b[1;32m     10\u001b[0m  \u001b[0msumlist\u001b[0m\u001b[0;34m.\u001b[0m\u001b[0mreverse\u001b[0m\u001b[0;34m(\u001b[0m\u001b[0;34m)\u001b[0m\u001b[0;34m\u001b[0m\u001b[0;34m\u001b[0m\u001b[0m\n\u001b[1;32m     11\u001b[0m \u001b[0mprint\u001b[0m\u001b[0;34m(\u001b[0m\u001b[0msumlist\u001b[0m\u001b[0;34m)\u001b[0m\u001b[0;34m\u001b[0m\u001b[0;34m\u001b[0m\u001b[0m\n",
            "\u001b[0;31mKeyboardInterrupt\u001b[0m: "
          ]
        }
      ]
    },
    {
      "cell_type": "code",
      "metadata": {
        "id": "qmzMZKduf7kP",
        "colab_type": "code",
        "colab": {
          "base_uri": "https://localhost:8080/",
          "height": 34
        },
        "outputId": "42f1562e-dd20-49c1-aad2-dded13321ecb"
      },
      "source": [
        "if inp == \"\":\n",
        "  print('true')\n",
        "else:\n",
        "  print('false')"
      ],
      "execution_count": 115,
      "outputs": [
        {
          "output_type": "stream",
          "text": [
            "true\n"
          ],
          "name": "stdout"
        }
      ]
    }
  ]
}