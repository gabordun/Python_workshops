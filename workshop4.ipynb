{
  "nbformat": 4,
  "nbformat_minor": 0,
  "metadata": {
    "colab": {
      "name": "Untitled4.ipynb",
      "provenance": [],
      "include_colab_link": true
    },
    "kernelspec": {
      "name": "python3",
      "display_name": "Python 3"
    }
  },
  "cells": [
    {
      "cell_type": "markdown",
      "metadata": {
        "id": "view-in-github",
        "colab_type": "text"
      },
      "source": [
        "<a href=\"https://colab.research.google.com/github/gabordun/Python_workshops/blob/master/workshop4.ipynb\" target=\"_parent\"><img src=\"https://colab.research.google.com/assets/colab-badge.svg\" alt=\"Open In Colab\"/></a>"
      ]
    },
    {
      "cell_type": "code",
      "metadata": {
        "id": "aZR1CSQot1JT",
        "colab_type": "code",
        "outputId": "44a80fad-21c6-45ee-c3c4-e5f07c72883b",
        "colab": {
          "base_uri": "https://localhost:8080/",
          "height": 153
        }
      },
      "source": [
        "#Shekhar's Python workshop No4\n",
        "#Q1\n",
        "\n",
        "population = int(input('population?'))\n",
        "percent = float(input('yearly growth in percentage?'))\n",
        "percent = percent/100\n",
        "newcomers = int(input('newcomers?'))\n",
        "target = int(input('target population?'))\n",
        "\n",
        "print('The inputs are:')\n",
        "print(population,percent,newcomers,target)\n",
        "\n",
        "target1 = [target]\n",
        "for i in range(0,100):\n",
        " target1.append(target1[i]/(1+percent)-newcomers)\n",
        " if target1[i+1] < population:\n",
        "  break\n",
        "print('The number of required years:')\n",
        "print(len(target1)-1)"
      ],
      "execution_count": 0,
      "outputs": [
        {
          "output_type": "stream",
          "text": [
            "population?10000\n",
            "yearly growth in percentage?10\n",
            "newcomers?300\n",
            "target population?100000\n",
            "The inputs are:\n",
            "10000 0.1 300 100000\n",
            "The number of required years:\n",
            "22\n"
          ],
          "name": "stdout"
        }
      ]
    },
    {
      "cell_type": "code",
      "metadata": {
        "id": "vG0KtemZ7d-E",
        "colab_type": "code",
        "outputId": "c270a806-ce73-4f57-c43b-6b82f565dfab",
        "colab": {
          "base_uri": "https://localhost:8080/",
          "height": 350
        }
      },
      "source": [
        "#Q2\n",
        "\n",
        "#before the first run please update the below package\n",
        "\n",
        "#import nltk\n",
        "#nltk.download('words')\n",
        "#english_vocab = set(w.lower() for w in nltk.corpus.words.words())\n",
        "\n",
        "inp=str(input('input? please give me an alphanumeric, spaceless, lowercased string'))\n",
        "\n",
        "def maxmatch(inp):\n",
        " if inp in english_vocab:\n",
        "   return(inp)\n",
        " else:\n",
        "   sumlist = []\n",
        "   outlist = []\n",
        "   while inp !=\"\":\n",
        "    for i in range(1,len(inp)+1):\n",
        "     sumlist.append(inp[0:i])\n",
        "    sumlist.reverse()\n",
        "    for j in range(0, len(sumlist)):\n",
        "     if sumlist[j] in english_vocab:\n",
        "      outlist.append(sumlist[j])\n",
        "      break\n",
        "   inp = inp.replace(outlist[0],'')\n",
        "   return(outlist)\n",
        "    \n",
        "\n",
        "print(maxmatch(inp))\n",
        "\n"
      ],
      "execution_count": 71,
      "outputs": [
        {
          "output_type": "stream",
          "text": [
            "input? please give me an alphanumeric, spaceless, lowercased stringvehiclecdf\n"
          ],
          "name": "stdout"
        },
        {
          "output_type": "error",
          "ename": "KeyboardInterrupt",
          "evalue": "ignored",
          "traceback": [
            "\u001b[0;31m---------------------------------------------------------------------------\u001b[0m",
            "\u001b[0;31mKeyboardInterrupt\u001b[0m                         Traceback (most recent call last)",
            "\u001b[0;32m<ipython-input-71-117f68e58975>\u001b[0m in \u001b[0;36m<module>\u001b[0;34m()\u001b[0m\n\u001b[1;32m     20\u001b[0m \u001b[0;34m\u001b[0m\u001b[0m\n\u001b[1;32m     21\u001b[0m \u001b[0;34m\u001b[0m\u001b[0m\n\u001b[0;32m---> 22\u001b[0;31m \u001b[0mprint\u001b[0m\u001b[0;34m(\u001b[0m\u001b[0mmaxmatch\u001b[0m\u001b[0;34m(\u001b[0m\u001b[0minp\u001b[0m\u001b[0;34m)\u001b[0m\u001b[0;34m)\u001b[0m\u001b[0;34m\u001b[0m\u001b[0;34m\u001b[0m\u001b[0m\n\u001b[0m\u001b[1;32m     23\u001b[0m \u001b[0;34m\u001b[0m\u001b[0m\n",
            "\u001b[0;32m<ipython-input-71-117f68e58975>\u001b[0m in \u001b[0;36mmaxmatch\u001b[0;34m(inp)\u001b[0m\n\u001b[1;32m     11\u001b[0m     \u001b[0;32mfor\u001b[0m \u001b[0mi\u001b[0m \u001b[0;32min\u001b[0m \u001b[0mrange\u001b[0m\u001b[0;34m(\u001b[0m\u001b[0;36m1\u001b[0m\u001b[0;34m,\u001b[0m\u001b[0mlen\u001b[0m\u001b[0;34m(\u001b[0m\u001b[0minp\u001b[0m\u001b[0;34m)\u001b[0m\u001b[0;34m+\u001b[0m\u001b[0;36m1\u001b[0m\u001b[0;34m)\u001b[0m\u001b[0;34m:\u001b[0m\u001b[0;34m\u001b[0m\u001b[0;34m\u001b[0m\u001b[0m\n\u001b[1;32m     12\u001b[0m      \u001b[0msumlist\u001b[0m\u001b[0;34m.\u001b[0m\u001b[0mappend\u001b[0m\u001b[0;34m(\u001b[0m\u001b[0minp\u001b[0m\u001b[0;34m[\u001b[0m\u001b[0;36m0\u001b[0m\u001b[0;34m:\u001b[0m\u001b[0mi\u001b[0m\u001b[0;34m]\u001b[0m\u001b[0;34m)\u001b[0m\u001b[0;34m\u001b[0m\u001b[0;34m\u001b[0m\u001b[0m\n\u001b[0;32m---> 13\u001b[0;31m     \u001b[0msumlist\u001b[0m\u001b[0;34m.\u001b[0m\u001b[0mreverse\u001b[0m\u001b[0;34m(\u001b[0m\u001b[0;34m)\u001b[0m\u001b[0;34m\u001b[0m\u001b[0;34m\u001b[0m\u001b[0m\n\u001b[0m\u001b[1;32m     14\u001b[0m     \u001b[0;32mfor\u001b[0m \u001b[0mj\u001b[0m \u001b[0;32min\u001b[0m \u001b[0mrange\u001b[0m\u001b[0;34m(\u001b[0m\u001b[0;36m0\u001b[0m\u001b[0;34m,\u001b[0m \u001b[0mlen\u001b[0m\u001b[0;34m(\u001b[0m\u001b[0msumlist\u001b[0m\u001b[0;34m)\u001b[0m\u001b[0;34m)\u001b[0m\u001b[0;34m:\u001b[0m\u001b[0;34m\u001b[0m\u001b[0;34m\u001b[0m\u001b[0m\n\u001b[1;32m     15\u001b[0m      \u001b[0;32mif\u001b[0m \u001b[0msumlist\u001b[0m\u001b[0;34m[\u001b[0m\u001b[0mj\u001b[0m\u001b[0;34m]\u001b[0m \u001b[0;32min\u001b[0m \u001b[0menglish_vocab\u001b[0m\u001b[0;34m:\u001b[0m\u001b[0;34m\u001b[0m\u001b[0;34m\u001b[0m\u001b[0m\n",
            "\u001b[0;31mKeyboardInterrupt\u001b[0m: "
          ]
        }
      ]
    },
    {
      "cell_type": "code",
      "metadata": {
        "id": "B2Ivup5ELbyH",
        "colab_type": "code",
        "outputId": "2bf46d92-04dd-4cdf-ca2a-7dca972cd6e6",
        "colab": {
          "base_uri": "https://localhost:8080/",
          "height": 68
        }
      },
      "source": [
        "#helpcell\n",
        "\n",
        "sumlist = []\n",
        "outlist = []\n",
        "for i in range(1,len(inp)+1):\n",
        "    sumlist.append(inp[0:i])\n",
        "sumlist.reverse()\n",
        "print(sumlist)\n",
        "for j in range(0, len(sumlist)):\n",
        " if sumlist[j] in english_vocab:\n",
        "  outlist.append(sumlist[j])\n",
        "  break\n",
        "print(outlist)\n",
        "inp2 = inp.replace(outlist[0],'')\n",
        "print(inp2)\n"
      ],
      "execution_count": 56,
      "outputs": [
        {
          "output_type": "stream",
          "text": [
            "['dcf', 'dc', 'd']\n",
            "['d']\n",
            "cf\n"
          ],
          "name": "stdout"
        }
      ]
    }
  ]
}