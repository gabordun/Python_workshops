{
  "nbformat": 4,
  "nbformat_minor": 0,
  "metadata": {
    "colab": {
      "name": "Untitled4.ipynb",
      "provenance": [],
      "include_colab_link": true
    },
    "kernelspec": {
      "name": "python3",
      "display_name": "Python 3"
    }
  },
  "cells": [
    {
      "cell_type": "markdown",
      "metadata": {
        "id": "view-in-github",
        "colab_type": "text"
      },
      "source": [
        "<a href=\"https://colab.research.google.com/github/gabordun/Python_workshops/blob/master/workshop4.ipynb\" target=\"_parent\"><img src=\"https://colab.research.google.com/assets/colab-badge.svg\" alt=\"Open In Colab\"/></a>"
      ]
    },
    {
      "cell_type": "code",
      "metadata": {
        "id": "aZR1CSQot1JT",
        "colab_type": "code",
        "outputId": "44a80fad-21c6-45ee-c3c4-e5f07c72883b",
        "colab": {
          "base_uri": "https://localhost:8080/",
          "height": 153
        }
      },
      "source": [
        "#Shekhar's Python workshop No4\n",
        "#Q1\n",
        "\n",
        "population = int(input('population?'))\n",
        "percent = float(input('yearly growth in percentage?'))\n",
        "percent = percent/100\n",
        "newcomers = int(input('newcomers?'))\n",
        "target = int(input('target population?'))\n",
        "\n",
        "print('The inputs are:')\n",
        "print(population,percent,newcomers,target)\n",
        "\n",
        "target1 = [target]\n",
        "for i in range(0,100):\n",
        " target1.append(target1[i]/(1+percent)-newcomers)\n",
        " if target1[i+1] < population:\n",
        "  break\n",
        "print('The number of required years:')\n",
        "print(len(target1)-1)"
      ],
      "execution_count": 1,
      "outputs": [
        {
          "output_type": "stream",
          "text": [
            "population?10000\n",
            "yearly growth in percentage?10\n",
            "newcomers?300\n",
            "target population?100000\n",
            "The inputs are:\n",
            "10000 0.1 300 100000\n",
            "The number of required years:\n",
            "22\n"
          ],
          "name": "stdout"
        }
      ]
    },
    {
      "cell_type": "code",
      "metadata": {
        "id": "vG0KtemZ7d-E",
        "colab_type": "code",
        "colab": {
          "base_uri": "https://localhost:8080/",
          "height": 51
        },
        "outputId": "217dcba2-4869-4289-e792-8eca0fa19924"
      },
      "source": [
        "#Q2\n",
        "\n",
        "#before the first run please update the below package\n",
        "\n",
        "#import nltk\n",
        "#nltk.download('words')\n",
        "english_vocab = set(w.lower() for w in nltk.corpus.words.words())\n",
        "\n",
        "inp=str(input('input? please give me an alphanumeric, spaceless, lowercased string'))\n",
        "\n",
        "def maxmatch(inp):\n",
        "  if inp in english_vocab:\n",
        "    return(inp)\n",
        "  else:\n",
        "   sumlist = []\n",
        "   outlist = []\n",
        "   for i in range(1,len(inp)+1):\n",
        "    sumlist.append(inp[0:i])\n",
        "    for j in range(0, len(sumlist)):\n",
        "     if sumlist[j] not in english_vocab:\n",
        "      outlist.append(sumlist[j-1])\n",
        "      break\n",
        "  return(outlist)\n",
        "    \n",
        "\n",
        "print(maxmatch(inp))\n",
        "\n"
      ],
      "execution_count": 111,
      "outputs": [
        {
          "output_type": "stream",
          "text": [
            "input? please give me an alphanumeric, spaceless, lowercased stringvehiclecf\n",
            "['v', 'v', 'v', 'v', 'v', 'v', 'v', 'v']\n"
          ],
          "name": "stdout"
        }
      ]
    },
    {
      "cell_type": "code",
      "metadata": {
        "id": "B2Ivup5ELbyH",
        "colab_type": "code",
        "colab": {
          "base_uri": "https://localhost:8080/",
          "height": 34
        },
        "outputId": "be25f7d7-8bbb-4e55-b518-1a5956967f47"
      },
      "source": [
        "sumlist = []\n",
        "for i in range(1,len(inp)+1):\n",
        "  sumlist.append(inp[0:i])\n",
        "for j in range(0, len(sumlist)):\n",
        "     if sumlist[j] not in english_vocab:\n",
        "      print(sumlist[j])\n",
        "      break\n"
      ],
      "execution_count": 114,
      "outputs": [
        {
          "output_type": "stream",
          "text": [
            "ve\n"
          ],
          "name": "stdout"
        }
      ]
    }
  ]
}