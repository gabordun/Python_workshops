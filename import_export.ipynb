{
  "nbformat": 4,
  "nbformat_minor": 0,
  "metadata": {
    "colab": {
      "name": "Untitled1.ipynb",
      "provenance": [],
      "include_colab_link": true
    },
    "kernelspec": {
      "name": "python3",
      "display_name": "Python 3"
    }
  },
  "cells": [
    {
      "cell_type": "markdown",
      "metadata": {
        "id": "view-in-github",
        "colab_type": "text"
      },
      "source": [
        "<a href=\"https://colab.research.google.com/github/gabordun/Python_workshops/blob/master/import_export.ipynb\" target=\"_parent\"><img src=\"https://colab.research.google.com/assets/colab-badge.svg\" alt=\"Open In Colab\"/></a>"
      ]
    },
    {
      "cell_type": "code",
      "metadata": {
        "id": "J7jaHez_dQvd",
        "colab_type": "code",
        "colab": {}
      },
      "source": [
        "import pandas as pd\n",
        "import numpy as np\n",
        "import csv\n",
        "\n",
        "#in colab the below-used csv should be uploaded first\n",
        "\n",
        "path = \"/content/wet.paths\"\n",
        "input = pd.read_csv(path)\n",
        "add = \"s3://commoncrawl/\"\n",
        "\n",
        "input = input.head(100)\n",
        "\n",
        "wet_addresses = (add + input)\n",
        "\n",
        "print(wet_addresses)\n",
        "\n",
        "##some unsuccesful experiment\n",
        "#with open('/content/addresses.csv','wb') as csvFile: \n",
        "  #writer = csv.writer(csvFile, delimiter = ',')\n",
        "  #for line in wet_addresses:\n",
        "   #writer.writerow(line)\n",
        "  \n",
        "\n",
        "##export to left bar in colab  \n",
        "wet_addresses.to_csv('wet_adresses.csv', index=False, encoding='utf-8')"
      ],
      "execution_count": 0,
      "outputs": []
    }
  ]
}