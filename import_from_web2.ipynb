{
  "nbformat": 4,
  "nbformat_minor": 0,
  "metadata": {
    "colab": {
      "name": "Untitled3.ipynb",
      "provenance": [],
      "include_colab_link": true
    },
    "kernelspec": {
      "name": "python3",
      "display_name": "Python 3"
    }
  },
  "cells": [
    {
      "cell_type": "markdown",
      "metadata": {
        "id": "view-in-github",
        "colab_type": "text"
      },
      "source": [
        "<a href=\"https://colab.research.google.com/github/gabordun/Python_workshops/blob/master/import_from_web2.ipynb\" target=\"_parent\"><img src=\"https://colab.research.google.com/assets/colab-badge.svg\" alt=\"Open In Colab\"/></a>"
      ]
    },
    {
      "cell_type": "code",
      "metadata": {
        "id": "QKuLnQL9l7-t",
        "colab_type": "code",
        "colab": {}
      },
      "source": [
        "import numpy as np\n",
        "import pandas as pd\n",
        "from bs4 import BeautifulSoup\n",
        "#from tensorflow import keras\n",
        "#import tensorflow as tf\n",
        "#import requests\n",
        "from urllib import request\n",
        "import time\n",
        "import requests\n",
        "soup=requests.get('https://index.hu')\n",
        "doc = BeautifulSoup(soup.text, \"html.parser\")\n",
        "\n",
        "for string in doc.stripped_strings:\n",
        "    print(repr(string))\n",
        "\n",
        "while True:\n",
        "   try :\n",
        "     if (soup.table.find_all('tr')):\n",
        "       break\n",
        "     else:\n",
        "       continue\n",
        "   except:\n",
        "       page = request.urlopen('https://index.hu')\n",
        "       soup = BeautifulSoup(page)\n",
        "        \n",
        "table = {'Description': [], 'Location':[] , 'Cost':[] }\n",
        "for item in soup.table.find_all('tr'):\n",
        " if item.th.text == 'Description':\n",
        "   table[item.th.text].append(item.td.text.replace('\\n',''))\n",
        " if item.th.text == 'Location':\n",
        "   table[item.th.text].append(item.td.text)\n",
        " if item.th.text == 'Cost':\n",
        "   table[item.th.text].append(item.td.text)\n",
        "df = pd.DataFrame( data = table)\n",
        "df"
      ],
      "execution_count": 0,
      "outputs": []
    },
    {
      "cell_type": "code",
      "metadata": {
        "id": "e3rSGJvxOSeA",
        "colab_type": "code",
        "colab": {}
      },
      "source": [
        "while True:\n",
        "   try :\n",
        "     if (soup.table.find_all('tr')):\n",
        "       break\n",
        "     else:\n",
        "       continue\n",
        "   except:\n",
        "       page = request.urlopen('https://index.hu')\n",
        "       soup = BeautifulSoup(page)\n",
        "        \n",
        "table = {'Description': [], 'Location':[] , 'Cost':[] }\n",
        "for item in soup.table.find_all('tr'):\n",
        " if item.th.text == 'Description':\n",
        "   table[item.th.text].append(item.td.text.replace('\\n',''))\n",
        " if item.th.text == 'Location':\n",
        "   table[item.th.text].append(item.td.text)\n",
        " if item.th.text == 'Cost':\n",
        "   table[item.th.text].append(item.td.text)\n",
        "df = pd.DataFrame( data = table)\n",
        "df"
      ],
      "execution_count": 0,
      "outputs": []
    },
    {
      "cell_type": "code",
      "metadata": {
        "id": "xkGZTzEFnNaj",
        "colab_type": "code",
        "colab": {}
      },
      "source": [
        "# read source html\n",
        "import requests\n",
        "r = requests.get(\"https://index.hu\")\n",
        "doc = BeautifulSoup(r.text, \"html.parser\")\n",
        "for tr in doc.find_all('tr'):\n",
        "   print(tr.th.text)\n",
        "   print(tr.td.text)\n",
        "   print(\"--\")\n",
        "\n",
        "# for id, . for class, nothing for tag\n",
        "content = {}\n",
        "for tr in doc.find_all('tr'):\n",
        "   if tr.th.text == \"Rovatok\":\n",
        "      Rovatok = tr.td.text.split(\",\")\n",
        "dictionary = {\"Rovatok\": content}\n",
        "print(dictionary)"
      ],
      "execution_count": 0,
      "outputs": []
    }
  ]
}