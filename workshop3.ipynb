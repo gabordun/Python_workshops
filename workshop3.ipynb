{
  "nbformat": 4,
  "nbformat_minor": 0,
  "metadata": {
    "colab": {
      "name": "Untitled1.ipynb",
      "version": "0.3.2",
      "provenance": [],
      "include_colab_link": true
    },
    "kernelspec": {
      "name": "python3",
      "display_name": "Python 3"
    }
  },
  "cells": [
    {
      "cell_type": "markdown",
      "metadata": {
        "id": "view-in-github",
        "colab_type": "text"
      },
      "source": [
        "<a href=\"https://colab.research.google.com/github/gabordun/Python_workshops/blob/master/workshop3.ipynb\" target=\"_parent\"><img src=\"https://colab.research.google.com/assets/colab-badge.svg\" alt=\"Open In Colab\"/></a>"
      ]
    },
    {
      "cell_type": "code",
      "metadata": {
        "id": "tHbV2P5CDvLe",
        "colab_type": "code",
        "colab": {}
      },
      "source": [
        "#Shekhar's Python workshop No3\n",
        "#Q1\n",
        "strarr = ([\"zone\", \"abigail\", \"theta\", \"form\", \"libe\", \"zas\", \"theta\", \"abigail\"], 2)\n",
        "\n",
        "def longest_consec(strarr):\n",
        "  length = strarr[-1]\n"
      ],
      "execution_count": 0,
      "outputs": []
    },
    {
      "cell_type": "code",
      "metadata": {
        "id": "sslSiOdAbK8y",
        "colab_type": "code",
        "colab": {
          "base_uri": "https://localhost:8080/",
          "height": 129
        },
        "outputId": "f2959fba-3619-4562-8118-d59dc0f37c99"
      },
      "source": [
        "strarr = ([\"zone\", \"abigail\", \"theta\", \"form\", \"libe\", \"zas\", \"theta\", \"abigail\"], 2)\n",
        "length = strarr[-1]\n",
        "items = list(strarr[0])\n",
        "items\n",
        "\n",
        "consec = []\n",
        "for i in range(0,len(items)-1):\n",
        " for j in length:\n",
        "  consec.append(\n",
        "     while i<length:\n",
        "     items[i]+items[i+1])\n",
        "print(consec)\n",
        "\n"
      ],
      "execution_count": 14,
      "outputs": [
        {
          "output_type": "error",
          "ename": "SyntaxError",
          "evalue": "ignored",
          "traceback": [
            "\u001b[0;36m  File \u001b[0;32m\"<ipython-input-14-1a33649ce957>\"\u001b[0;36m, line \u001b[0;32m10\u001b[0m\n\u001b[0;31m    while i<length:\u001b[0m\n\u001b[0m        ^\u001b[0m\n\u001b[0;31mSyntaxError\u001b[0m\u001b[0;31m:\u001b[0m invalid syntax\n"
          ]
        }
      ]
    }
  ]
}