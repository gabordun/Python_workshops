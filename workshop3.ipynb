{
  "nbformat": 4,
  "nbformat_minor": 0,
  "metadata": {
    "colab": {
      "name": "Untitled1.ipynb",
      "version": "0.3.2",
      "provenance": [],
      "include_colab_link": true
    },
    "kernelspec": {
      "name": "python3",
      "display_name": "Python 3"
    }
  },
  "cells": [
    {
      "cell_type": "markdown",
      "metadata": {
        "id": "view-in-github",
        "colab_type": "text"
      },
      "source": [
        "<a href=\"https://colab.research.google.com/github/gabordun/Python_workshops/blob/master/workshop3.ipynb\" target=\"_parent\"><img src=\"https://colab.research.google.com/assets/colab-badge.svg\" alt=\"Open In Colab\"/></a>"
      ]
    },
    {
      "cell_type": "code",
      "metadata": {
        "id": "tHbV2P5CDvLe",
        "colab_type": "code",
        "colab": {
          "base_uri": "https://localhost:8080/",
          "height": 34
        },
        "outputId": "95f0f8d0-5daf-4c4d-a504-45b1559df2d2"
      },
      "source": [
        "#Shekhar's Python workshop No3\n",
        "#Q1\n",
        "strarr = ([\"zone\", \"abigail\", \"theta\", \"form\", \"libe\", \"zas\", \"theta\", \"abigail\"],2)\n",
        "\n",
        "def longest_consec(strarr):\n",
        " length = strarr[-1]\n",
        " items = list(strarr[0])\n",
        " consec = []\n",
        "\n",
        " if length <= 0 or\\\n",
        "     len(items) == 0 or\\\n",
        "     len(items) < length:\n",
        "   return('\"\"')\n",
        " else:\n",
        "  consec = []\n",
        "  for i in range(0,len(items)-(length-1)):\n",
        "    consec.append(items[i:i+length])\n",
        "\n",
        "  helplen = []  \n",
        "  for i in range(0,len(consec)):\n",
        "    helplen.append(''.join(consec[i]))\n",
        "\n",
        "  for i in range(0, len(helplen)):\n",
        "   if helplen[i] == max(helplen):\n",
        "    return(helplen[i])\n",
        "    break\n",
        "   \n",
        "print(longest_consec(strarr))\n"
      ],
      "execution_count": 41,
      "outputs": [
        {
          "output_type": "stream",
          "text": [
            "zoneabigail\n"
          ],
          "name": "stdout"
        }
      ]
    },
    {
      "cell_type": "code",
      "metadata": {
        "id": "sslSiOdAbK8y",
        "colab_type": "code",
        "outputId": "d65538c9-2a33-4585-e0e9-f2696c3be69e",
        "colab": {
          "base_uri": "https://localhost:8080/",
          "height": 68
        }
      },
      "source": [
        "strarr = ([\"zone\", \"abigail\", \"theta\", \"form\", \"libe\", \"zas\", \"theta\", \"abigail\"], 2)\n",
        "length = strarr[-1]\n",
        "items = list(strarr[0])\n",
        "print(items)\n",
        "\n",
        "consec = []\n",
        "for i in range(0,len(items)-(length-1)):\n",
        "  consec.append(items[i:i+length])\n",
        "\n",
        "helplen = []  \n",
        "for i in range(0,len(consec)):\n",
        "  helplen.append(''.join(consec[i]))\n",
        "  \n",
        "print(helplen)\n",
        "max(helplen)"
      ],
      "execution_count": 42,
      "outputs": [
        {
          "output_type": "stream",
          "text": [
            "['zone', 'abigail', 'theta', 'form', 'libe', 'zas', 'theta', 'abigail']\n",
            "['zoneabigail', 'abigailtheta', 'thetaform', 'formlibe', 'libezas', 'zastheta', 'thetaabigail']\n"
          ],
          "name": "stdout"
        },
        {
          "output_type": "execute_result",
          "data": {
            "text/plain": [
              "'zoneabigail'"
            ]
          },
          "metadata": {
            "tags": []
          },
          "execution_count": 42
        }
      ]
    }
  ]
}