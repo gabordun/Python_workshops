{
  "nbformat": 4,
  "nbformat_minor": 0,
  "metadata": {
    "colab": {
      "name": "Untitled1.ipynb",
      "version": "0.3.2",
      "provenance": [],
      "include_colab_link": true
    },
    "kernelspec": {
      "name": "python3",
      "display_name": "Python 3"
    }
  },
  "cells": [
    {
      "cell_type": "markdown",
      "metadata": {
        "id": "view-in-github",
        "colab_type": "text"
      },
      "source": [
        "<a href=\"https://colab.research.google.com/github/gabordun/Python_workshops/blob/master/workshop3.ipynb\" target=\"_parent\"><img src=\"https://colab.research.google.com/assets/colab-badge.svg\" alt=\"Open In Colab\"/></a>"
      ]
    },
    {
      "cell_type": "code",
      "metadata": {
        "id": "tHbV2P5CDvLe",
        "colab_type": "code",
        "colab": {
          "base_uri": "https://localhost:8080/",
          "height": 34
        },
        "outputId": "4dc0682f-1af7-4ea7-f70f-ecffd4304dca"
      },
      "source": [
        "#Shekhar's Python workshop No3\n",
        "#Q1\n",
        "strarr = ([\"zone\", \"abigail\", \"theta\", \"form\", \"libe\", \"zas\", \"theta\", \"abigail\"],7)\n",
        "\n",
        "def longest_consec(strarr):\n",
        " length = strarr[-1]\n",
        " items = list(strarr[0])\n",
        " consec = []\n",
        "\n",
        " if length <= 0 or\\\n",
        "     len(items) == 0 or\\\n",
        "     len(items) < length:\n",
        "   return('\"\"')\n",
        " else:\n",
        "  consec = []\n",
        "  for i in range(0,len(items)-(length-1)):\n",
        "    consec.append(items[i:i+length])\n",
        "\n",
        "  helplen = []  \n",
        "  for i in range(0,len(consec)):\n",
        "    helplen.append(''.join(consec[i]))\n",
        "\n",
        "  for i in range(0, len(helplen)):\n",
        "   if helplen[i] == max(helplen, key=len):\n",
        "    return(helplen[i])\n",
        "    break\n",
        "   \n",
        "print(longest_consec(strarr))\n"
      ],
      "execution_count": 18,
      "outputs": [
        {
          "output_type": "stream",
          "text": [
            "abigailthetaformlibezasthetaabigail\n"
          ],
          "name": "stdout"
        }
      ]
    },
    {
      "cell_type": "code",
      "metadata": {
        "id": "sslSiOdAbK8y",
        "colab_type": "code",
        "outputId": "2b55c6e6-28fb-491a-f88c-ed21df559b51",
        "colab": {
          "base_uri": "https://localhost:8080/",
          "height": 34
        }
      },
      "source": [
        "#Q2\n",
        "lst = ([1,1,1,1],2)\n",
        "\n",
        "def delete_nth(lst):\n",
        "  lstnew = lst[0]\n",
        "  result = []\n",
        "  \n",
        "  for i in lstnew:\n",
        "    if result.count(lstnew[i]) < lst[-1]:\n",
        "      result.append(lstnew[i])\n",
        "    return(result)\n",
        "  \n",
        "print(delete_nth(lst))"
      ],
      "execution_count": 22,
      "outputs": [
        {
          "output_type": "stream",
          "text": [
            "[1]\n"
          ],
          "name": "stdout"
        }
      ]
    }
  ]
}