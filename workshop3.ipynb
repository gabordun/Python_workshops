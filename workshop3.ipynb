{
  "nbformat": 4,
  "nbformat_minor": 0,
  "metadata": {
    "colab": {
      "name": "Untitled1.ipynb",
      "version": "0.3.2",
      "provenance": [],
      "include_colab_link": true
    },
    "kernelspec": {
      "name": "python3",
      "display_name": "Python 3"
    }
  },
  "cells": [
    {
      "cell_type": "markdown",
      "metadata": {
        "id": "view-in-github",
        "colab_type": "text"
      },
      "source": [
        "<a href=\"https://colab.research.google.com/github/gabordun/Python_workshops/blob/master/workshop3.ipynb\" target=\"_parent\"><img src=\"https://colab.research.google.com/assets/colab-badge.svg\" alt=\"Open In Colab\"/></a>"
      ]
    },
    {
      "cell_type": "code",
      "metadata": {
        "id": "tHbV2P5CDvLe",
        "colab_type": "code",
        "outputId": "4dc0682f-1af7-4ea7-f70f-ecffd4304dca",
        "colab": {
          "base_uri": "https://localhost:8080/",
          "height": 34
        }
      },
      "source": [
        "#Shekhar's Python workshop No3\n",
        "#Q1\n",
        "strarr = ([\"zone\", \"abigail\", \"theta\", \"form\", \"libe\", \"zas\", \"theta\", \"abigail\"],7)\n",
        "\n",
        "def longest_consec(strarr):\n",
        " length = strarr[-1]\n",
        " items = list(strarr[0])\n",
        " consec = []\n",
        "\n",
        " if length <= 0 or\\\n",
        "     len(items) == 0 or\\\n",
        "     len(items) < length:\n",
        "   return('\"\"')\n",
        " else:\n",
        "  consec = []\n",
        "  for i in range(0,len(items)-(length-1)):\n",
        "    consec.append(items[i:i+length])\n",
        "\n",
        "  helplen = []  \n",
        "  for i in range(0,len(consec)):\n",
        "    helplen.append(''.join(consec[i]))\n",
        "\n",
        "  for i in range(0, len(helplen)):\n",
        "   if helplen[i] == max(helplen, key=len):\n",
        "    return(helplen[i])\n",
        "    break\n",
        "   \n",
        "print(longest_consec(strarr))\n"
      ],
      "execution_count": 0,
      "outputs": [
        {
          "output_type": "stream",
          "text": [
            "abigailthetaformlibezasthetaabigail\n"
          ],
          "name": "stdout"
        }
      ]
    },
    {
      "cell_type": "code",
      "metadata": {
        "id": "sslSiOdAbK8y",
        "colab_type": "code",
        "outputId": "979291bb-dbb6-4528-9ce7-6948a96a506f",
        "colab": {
          "base_uri": "https://localhost:8080/",
          "height": 34
        }
      },
      "source": [
        "#Q2\n",
        "lst = ([20,37,20,21],1)\n",
        "\n",
        "def delete_nth(lst):\n",
        "  lstnew = lst[0]\n",
        "  result = []\n",
        "  \n",
        "  for i in range(0,len(lstnew)):\n",
        "    if result.count(lstnew[i]) <= lst[-1]-1:\n",
        "      result.append(lstnew[i])\n",
        "  return(result)\n",
        "  \n",
        "print(delete_nth(lst))"
      ],
      "execution_count": 0,
      "outputs": [
        {
          "output_type": "stream",
          "text": [
            "[20, 37, 21]\n"
          ],
          "name": "stdout"
        }
      ]
    },
    {
      "cell_type": "code",
      "metadata": {
        "id": "BzWEjGULvad2",
        "colab_type": "code",
        "outputId": "e41e5713-66de-494f-ee46-c4cd7a70a0b1",
        "colab": {
          "base_uri": "https://localhost:8080/",
          "height": 34
        }
      },
      "source": [
        "#Q3\n",
        "inp = (\"The sunset sets at twelve o' clock.\")\n",
        "\n",
        "def alphabet_position(inp):\n",
        "  inp2 = inp.lower()\n",
        "  result = []\n",
        "  mydict = {'a':'1','b':'2','c':'3','d':'4','e':'5','f':'6','g':'7','h':'8','i':'9','j':'10','k':'11','l':'12','m':'13','n':'14','o':'15','p':'16',\n",
        "            'q':'17','r':'18','s':'19','t':'20','u':'21','v':'22','w':'23','x':'24','y':'25','z':'26'}\n",
        "  for i in inp2:\n",
        "    if i in mydict:\n",
        "      result.append(mydict[i])\n",
        "  result2 = ' '.join(result)    \n",
        "  return(result2)\n",
        "\n",
        "print(alphabet_position(inp))"
      ],
      "execution_count": 0,
      "outputs": [
        {
          "output_type": "stream",
          "text": [
            "20 8 5 19 21 14 19 5 20 19 5 20 19 1 20 20 23 5 12 22 5 15 3 12 15 3 11\n"
          ],
          "name": "stdout"
        }
      ]
    },
    {
      "cell_type": "code",
      "metadata": {
        "id": "WetNjYks7Mfb",
        "colab_type": "code",
        "colab": {
          "base_uri": "https://localhost:8080/",
          "height": 129
        },
        "outputId": "f8a7c6a8-9b38-413d-93e1-1fa39d83a471"
      },
      "source": [
        "#Q4\n",
        "\n",
        "inp = (\"2 4 7 8 10\")\n",
        "\n",
        "def iq_test(inp):\n",
        "  \n"
      ],
      "execution_count": 1,
      "outputs": [
        {
          "output_type": "error",
          "ename": "SyntaxError",
          "evalue": "ignored",
          "traceback": [
            "\u001b[0;36m  File \u001b[0;32m\"<ipython-input-1-158fc166ce9f>\"\u001b[0;36m, line \u001b[0;32m5\u001b[0m\n\u001b[0;31m    \u001b[0m\n\u001b[0m    ^\u001b[0m\n\u001b[0;31mSyntaxError\u001b[0m\u001b[0;31m:\u001b[0m unexpected EOF while parsing\n"
          ]
        }
      ]
    },
    {
      "cell_type": "code",
      "metadata": {
        "id": "Qji-ye7Nd2pJ",
        "colab_type": "code",
        "colab": {
          "base_uri": "https://localhost:8080/",
          "height": 248
        },
        "outputId": "2dea9304-4cb7-437e-9696-a9aa98db3598"
      },
      "source": [
        "inp = (\"2 4 7 8 10\")\n",
        "inp2 = str.split(inp)\n",
        "print(inp2)\n",
        "inp3 = []\n",
        "\n",
        "if in inp2 is (i % 2 == 0 ):\n",
        "  inp3.append(i)\n",
        "  \n",
        "return(inp3)\n",
        "\n",
        "#oddnumber = inp2.count()\n",
        "#evennumber = inp2.count()\n"
      ],
      "execution_count": 24,
      "outputs": [
        {
          "output_type": "stream",
          "text": [
            "['2', '4', '7', '8', '10']\n"
          ],
          "name": "stdout"
        },
        {
          "output_type": "error",
          "ename": "TypeError",
          "evalue": "ignored",
          "traceback": [
            "\u001b[0;31m---------------------------------------------------------------------------\u001b[0m",
            "\u001b[0;31mTypeError\u001b[0m                                 Traceback (most recent call last)",
            "\u001b[0;32m<ipython-input-24-68992fbd94d1>\u001b[0m in \u001b[0;36m<module>\u001b[0;34m()\u001b[0m\n\u001b[1;32m      4\u001b[0m \u001b[0minp3\u001b[0m \u001b[0;34m=\u001b[0m \u001b[0;34m[\u001b[0m\u001b[0;34m]\u001b[0m\u001b[0;34m\u001b[0m\u001b[0;34m\u001b[0m\u001b[0m\n\u001b[1;32m      5\u001b[0m \u001b[0;34m\u001b[0m\u001b[0m\n\u001b[0;32m----> 6\u001b[0;31m \u001b[0;32mif\u001b[0m \u001b[0mi\u001b[0m \u001b[0;32min\u001b[0m \u001b[0minp2\u001b[0m \u001b[0;32mis\u001b[0m \u001b[0;34m(\u001b[0m\u001b[0mi\u001b[0m \u001b[0;34m%\u001b[0m \u001b[0;36m2\u001b[0m \u001b[0;34m==\u001b[0m \u001b[0;36m0\u001b[0m \u001b[0;34m)\u001b[0m\u001b[0;34m:\u001b[0m\u001b[0;34m\u001b[0m\u001b[0;34m\u001b[0m\u001b[0m\n\u001b[0m\u001b[1;32m      7\u001b[0m   \u001b[0minp3\u001b[0m\u001b[0;34m.\u001b[0m\u001b[0mappend\u001b[0m\u001b[0;34m(\u001b[0m\u001b[0mi\u001b[0m\u001b[0;34m)\u001b[0m\u001b[0;34m\u001b[0m\u001b[0;34m\u001b[0m\u001b[0m\n\u001b[1;32m      8\u001b[0m \u001b[0;34m\u001b[0m\u001b[0m\n",
            "\u001b[0;31mTypeError\u001b[0m: not all arguments converted during string formatting"
          ]
        }
      ]
    }
  ]
}