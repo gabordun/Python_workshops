{
  "nbformat": 4,
  "nbformat_minor": 0,
  "metadata": {
    "colab": {
      "name": "Untitled1.ipynb",
      "version": "0.3.2",
      "provenance": [],
      "include_colab_link": true
    },
    "kernelspec": {
      "name": "python3",
      "display_name": "Python 3"
    }
  },
  "cells": [
    {
      "cell_type": "markdown",
      "metadata": {
        "id": "view-in-github",
        "colab_type": "text"
      },
      "source": [
        "<a href=\"https://colab.research.google.com/github/gabordun/Python_workshops/blob/master/workshop3.ipynb\" target=\"_parent\"><img src=\"https://colab.research.google.com/assets/colab-badge.svg\" alt=\"Open In Colab\"/></a>"
      ]
    },
    {
      "cell_type": "code",
      "metadata": {
        "id": "tHbV2P5CDvLe",
        "colab_type": "code",
        "colab": {
          "base_uri": "https://localhost:8080/",
          "height": 34
        },
        "outputId": "a60aae45-a8ba-4a81-c4ed-b8d72dd3b98c"
      },
      "source": [
        "#Shekhar's Python workshop No3\n",
        "#Q1\n",
        "strarr = ([\"zone\", \"abigail\", \"theta\", \"form\", \"libe\", \"zas\", \"theta\", \"abigail\"], 2)\n",
        "\n",
        "def longest_consec(strarr):\n",
        " length = strarr[-1]\n",
        " items = list(strarr[0])\n",
        " consec = []\n",
        "\n",
        " if length <= 0 or\\\n",
        "     len(items) == 0 or\\\n",
        "     len(items) < length:\n",
        "   return('\"\"')\n",
        " else:\n",
        "  for i in range(0,len(items)-(length-1)):\n",
        "  #for j in range(i+1,i+length):\n",
        "   consec.append(items[i]+items[i+1])\n",
        "\n",
        "  length2 = list(map(len, consec))\n",
        "\n",
        "  for i in range(0, len(consec)):\n",
        "   if length2[i] == max(length2):\n",
        "    return(consec[i])\n",
        "    break\n",
        "   \n",
        "print(longest_consec(strarr))\n"
      ],
      "execution_count": 66,
      "outputs": [
        {
          "output_type": "stream",
          "text": [
            "\"\"\n"
          ],
          "name": "stdout"
        }
      ]
    },
    {
      "cell_type": "code",
      "metadata": {
        "id": "sslSiOdAbK8y",
        "colab_type": "code",
        "outputId": "e0b0a0b7-01fa-4a77-a151-a015487a15ad",
        "colab": {
          "base_uri": "https://localhost:8080/",
          "height": 102
        }
      },
      "source": [
        "strarr = ([\"zone\", \"abigail\", \"theta\", \"form\", \"libe\", \"zas\", \"theta\", \"abigail\"], 3)\n",
        "length = strarr[-1]\n",
        "items = list(strarr[0])\n",
        "print(items)\n",
        "\n",
        "consec = []\n",
        "for i in range(0,len(items)-(length-1)):\n",
        " #for j in range(i+1,i+length):\n",
        "  consec.append(items[i]+items[i+1]+items[i+2])\n",
        "print(consec)\n",
        "\n",
        "length2 = list(map(len, consec))\n",
        "\n",
        "for i in range(0, len(consec)):\n",
        "  if length2[i] == max(length2):\n",
        "    print(consec[i])\n",
        "    break\n",
        "\n",
        "\n",
        "\n",
        "  \n",
        "print(length2)\n",
        "\n",
        "maxi = max(length2)\n",
        "maxi"
      ],
      "execution_count": 35,
      "outputs": [
        {
          "output_type": "stream",
          "text": [
            "['zone', 'abigail', 'theta', 'form', 'libe', 'zas', 'theta', 'abigail']\n",
            "['zoneabigailtheta', 'abigailthetaform', 'thetaformlibe', 'formlibezas', 'libezastheta', 'zasthetaabigail']\n",
            "zoneabigailtheta\n",
            "[16, 16, 13, 11, 12, 15]\n"
          ],
          "name": "stdout"
        },
        {
          "output_type": "execute_result",
          "data": {
            "text/plain": [
              "16"
            ]
          },
          "metadata": {
            "tags": []
          },
          "execution_count": 35
        }
      ]
    }
  ]
}