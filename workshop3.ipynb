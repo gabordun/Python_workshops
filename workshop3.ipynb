{
  "nbformat": 4,
  "nbformat_minor": 0,
  "metadata": {
    "colab": {
      "name": "Untitled1.ipynb",
      "version": "0.3.2",
      "provenance": [],
      "include_colab_link": true
    },
    "kernelspec": {
      "name": "python3",
      "display_name": "Python 3"
    }
  },
  "cells": [
    {
      "cell_type": "markdown",
      "metadata": {
        "id": "view-in-github",
        "colab_type": "text"
      },
      "source": [
        "<a href=\"https://colab.research.google.com/github/gabordun/Python_workshops/blob/master/workshop3.ipynb\" target=\"_parent\"><img src=\"https://colab.research.google.com/assets/colab-badge.svg\" alt=\"Open In Colab\"/></a>"
      ]
    },
    {
      "cell_type": "code",
      "metadata": {
        "id": "tHbV2P5CDvLe",
        "colab_type": "code",
        "colab": {
          "base_uri": "https://localhost:8080/",
          "height": 34
        },
        "outputId": "af6da781-883f-4c04-a811-9795131417fc"
      },
      "source": [
        "#Shekhar's Python workshop No3\n",
        "#Q1\n",
        "strarr = ([\"zone\", \"abigail\", \"theta\", \"form\", \"libe\", \"zas\", \"theta\", \"abigail\"], 2)\n",
        "\n",
        "def longest_consec(strarr):\n",
        " length = strarr[-1]\n",
        " items = list(strarr[0])\n",
        " consec = []\n",
        "\n",
        " if length <= 0 or\\\n",
        "     len(items) == 0 or\\\n",
        "     len(items) < length:\n",
        "   return('\"\"')\n",
        " else:\n",
        "  for i in range(0,len(items)-(length-1)):\n",
        "  #for j in range(i+1,i+length):\n",
        "   consec.append(items[i]+items[i+1])\n",
        "\n",
        "  length2 = list(map(len, consec))\n",
        "\n",
        "  for i in range(0, len(consec)):\n",
        "   if length2[i] == max(length2):\n",
        "    return(consec[i])\n",
        "    break\n",
        "   \n",
        "print(longest_consec(strarr))\n"
      ],
      "execution_count": 68,
      "outputs": [
        {
          "output_type": "stream",
          "text": [
            "abigailtheta\n"
          ],
          "name": "stdout"
        }
      ]
    },
    {
      "cell_type": "code",
      "metadata": {
        "id": "up4pOwW3ngqZ",
        "colab_type": "code",
        "colab": {
          "base_uri": "https://localhost:8080/",
          "height": 34
        },
        "outputId": "441f3b01-d9d6-42e9-b215-e8bb6e7b54cb"
      },
      "source": [
        "items"
      ],
      "execution_count": 93,
      "outputs": [
        {
          "output_type": "execute_result",
          "data": {
            "text/plain": [
              "['zone', 'abigail', 'theta', 'form', 'libe', 'zas', 'theta', 'abigail']"
            ]
          },
          "metadata": {
            "tags": []
          },
          "execution_count": 93
        }
      ]
    },
    {
      "cell_type": "code",
      "metadata": {
        "id": "sslSiOdAbK8y",
        "colab_type": "code",
        "outputId": "92508f35-ccfb-4713-e35d-e76b28d28471",
        "colab": {
          "base_uri": "https://localhost:8080/",
          "height": 129
        }
      },
      "source": [
        "strarr = ([\"zone\", \"abigail\", \"theta\", \"form\", \"libe\", \"zas\", \"theta\", \"abigail\"], 4)\n",
        "length = strarr[-1]\n",
        "items = list(strarr[0])\n",
        "print(items)\n",
        "\n",
        "import numpy as np\n",
        "\n",
        "consec = []\n",
        "for i in range(0,len(items)-(length-1)):\n",
        "  consec.append(items[i:i+length])\n",
        "\n",
        "print(consec)\n",
        "\n",
        "length3 = list(map(len,consec))\n",
        "print(length3)\n",
        "\n",
        "list(consec[0]).count()"
      ],
      "execution_count": 195,
      "outputs": [
        {
          "output_type": "error",
          "ename": "SyntaxError",
          "evalue": "ignored",
          "traceback": [
            "\u001b[0;36m  File \u001b[0;32m\"<ipython-input-195-c887a0296b6f>\"\u001b[0;36m, line \u001b[0;32m17\u001b[0m\n\u001b[0;31m    list(consec[0]).count(**)\u001b[0m\n\u001b[0m                            ^\u001b[0m\n\u001b[0;31mSyntaxError\u001b[0m\u001b[0;31m:\u001b[0m invalid syntax\n"
          ]
        }
      ]
    },
    {
      "cell_type": "code",
      "metadata": {
        "id": "Tx7O9UEgaEOs",
        "colab_type": "code",
        "colab": {
          "base_uri": "https://localhost:8080/",
          "height": 85
        },
        "outputId": "92059d25-08fe-4eda-e139-e028664133a9"
      },
      "source": [
        "for i in \n",
        "for j in range(i,length):\n",
        " print(map(''.join,items[j]))"
      ],
      "execution_count": 149,
      "outputs": [
        {
          "output_type": "stream",
          "text": [
            "<map object at 0x7fac4b841da0>\n",
            "<map object at 0x7fac4b846cf8>\n",
            "<map object at 0x7fac4b846cc0>\n",
            "<map object at 0x7fac4b846cf8>\n"
          ],
          "name": "stdout"
        }
      ]
    }
  ]
}