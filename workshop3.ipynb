{
  "nbformat": 4,
  "nbformat_minor": 0,
  "metadata": {
    "colab": {
      "name": "Untitled1.ipynb",
      "version": "0.3.2",
      "provenance": [],
      "include_colab_link": true
    },
    "kernelspec": {
      "name": "python3",
      "display_name": "Python 3"
    }
  },
  "cells": [
    {
      "cell_type": "markdown",
      "metadata": {
        "id": "view-in-github",
        "colab_type": "text"
      },
      "source": [
        "<a href=\"https://colab.research.google.com/github/gabordun/Python_workshops/blob/master/workshop3.ipynb\" target=\"_parent\"><img src=\"https://colab.research.google.com/assets/colab-badge.svg\" alt=\"Open In Colab\"/></a>"
      ]
    },
    {
      "cell_type": "code",
      "metadata": {
        "id": "tHbV2P5CDvLe",
        "colab_type": "code",
        "colab": {
          "base_uri": "https://localhost:8080/",
          "height": 34
        },
        "outputId": "b4992fb9-5825-49d5-8177-1b97f0d90bd8"
      },
      "source": [
        "#Shekhar's Python workshop No3\n",
        "#Q1\n",
        "strarr = ([\"zone\", \"abigail\", \"theta\", \"form\", \"libe\", \"zas\", \"theta\", \"abigail\"], 2)\n",
        "\n",
        "def longest_consec(strarr):\n",
        " length = strarr[-1]\n",
        " items = list(strarr[0])\n",
        " consec = []\n",
        "\n",
        " if length <= 0 or\\\n",
        "     len(items) == 0 or\\\n",
        "     len(items) < length:\n",
        "   return('\"\"')\n",
        " else:\n",
        "  for i in range(0,len(items)-(length-1)):\n",
        "  #for j in range(i+1,i+length):\n",
        "   consec.append(items[i]+items[i+1])\n",
        "\n",
        "  length2 = list(map(len, consec))\n",
        "\n",
        "  for i in range(0, len(consec)):\n",
        "   if length2[i] == max(length2):\n",
        "    return(consec[i])\n",
        "    break\n",
        "   \n",
        "print(longest_consec(strarr))\n"
      ],
      "execution_count": 1,
      "outputs": [
        {
          "output_type": "stream",
          "text": [
            "abigailtheta\n"
          ],
          "name": "stdout"
        }
      ]
    },
    {
      "cell_type": "code",
      "metadata": {
        "id": "sslSiOdAbK8y",
        "colab_type": "code",
        "outputId": "36d8e132-b3e3-41de-d90c-9b5444b1fa1a",
        "colab": {
          "base_uri": "https://localhost:8080/",
          "height": 68
        }
      },
      "source": [
        "strarr = ([\"zone\", \"abigail\", \"theta\", \"form\", \"libe\", \"zas\", \"theta\", \"abigail\"], 4)\n",
        "length = strarr[-1]\n",
        "items = list(strarr[0])\n",
        "print(items)\n",
        "\n",
        "consec = []\n",
        "for i in range(0,len(items)-(length-1)):\n",
        "  consec.append(items[i:i+length])\n",
        "\n",
        "print(consec)\n",
        "\n",
        "length3 = list(map(len,consec))\n",
        "print(length3)\n",
        "\n",
        "#l = (sum(len(i)) for i in consec[0])\n",
        "#list(l)"
      ],
      "execution_count": 4,
      "outputs": [
        {
          "output_type": "stream",
          "text": [
            "['zone', 'abigail', 'theta', 'form', 'libe', 'zas', 'theta', 'abigail']\n",
            "[['zone', 'abigail', 'theta', 'form'], ['abigail', 'theta', 'form', 'libe'], ['theta', 'form', 'libe', 'zas'], ['form', 'libe', 'zas', 'theta'], ['libe', 'zas', 'theta', 'abigail']]\n",
            "[4, 4, 4, 4, 4]\n"
          ],
          "name": "stdout"
        }
      ]
    }
  ]
}