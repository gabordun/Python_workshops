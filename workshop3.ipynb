{
  "nbformat": 4,
  "nbformat_minor": 0,
  "metadata": {
    "colab": {
      "name": "Untitled1.ipynb",
      "version": "0.3.2",
      "provenance": [],
      "include_colab_link": true
    },
    "kernelspec": {
      "name": "python3",
      "display_name": "Python 3"
    }
  },
  "cells": [
    {
      "cell_type": "markdown",
      "metadata": {
        "id": "view-in-github",
        "colab_type": "text"
      },
      "source": [
        "<a href=\"https://colab.research.google.com/github/gabordun/Python_workshops/blob/master/workshop3.ipynb\" target=\"_parent\"><img src=\"https://colab.research.google.com/assets/colab-badge.svg\" alt=\"Open In Colab\"/></a>"
      ]
    },
    {
      "cell_type": "code",
      "metadata": {
        "id": "tHbV2P5CDvLe",
        "colab_type": "code",
        "colab": {}
      },
      "source": [
        "#Shekhar's Python workshop No3\n",
        "#Q1\n",
        "strarr = ([\"zone\", \"abigail\", \"theta\", \"form\", \"libe\", \"zas\", \"theta\", \"abigail\"], 2)\n",
        "\n",
        "def longest_consec(strarr):\n",
        "  length = strarr[-1]\n"
      ],
      "execution_count": 0,
      "outputs": []
    },
    {
      "cell_type": "code",
      "metadata": {
        "id": "sslSiOdAbK8y",
        "colab_type": "code",
        "outputId": "6317a435-8c5b-4272-f097-ff20b95b5a5e",
        "colab": {
          "base_uri": "https://localhost:8080/",
          "height": 34
        }
      },
      "source": [
        "strarr = ([\"zone\", \"abigail\", \"theta\", \"form\", \"libe\", \"zas\", \"theta\", \"abigail\"], 2)\n",
        "length = strarr[-1]\n",
        "items = list(strarr[0])\n",
        "items\n",
        "\n",
        "consec = []\n",
        "for i in range(0,len(items)-(length-1)):\n",
        " for j in range(0, length):\n",
        "  consec.append(items[i]+items[i+j])\n",
        "print(consec)\n",
        "\n",
        "\n"
      ],
      "execution_count": 15,
      "outputs": [
        {
          "output_type": "stream",
          "text": [
            "['zonezone', 'zoneabigail', 'abigailabigail', 'abigailtheta', 'thetatheta', 'thetaform', 'formform', 'formlibe', 'libelibe', 'libezas', 'zaszas', 'zastheta', 'thetatheta', 'thetaabigail']\n"
          ],
          "name": "stdout"
        }
      ]
    }
  ]
}