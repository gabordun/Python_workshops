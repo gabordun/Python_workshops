{
  "nbformat": 4,
  "nbformat_minor": 0,
  "metadata": {
    "colab": {
      "name": "workshop1.ipynb",
      "version": "0.3.2",
      "provenance": [],
      "collapsed_sections": [],
      "include_colab_link": true
    },
    "kernelspec": {
      "name": "python3",
      "display_name": "Python 3"
    }
  },
  "cells": [
    {
      "cell_type": "markdown",
      "metadata": {
        "id": "view-in-github",
        "colab_type": "text"
      },
      "source": [
        "<a href=\"https://colab.research.google.com/github/gabordun/Python_workshops/blob/master/workshop1.ipynb\" target=\"_parent\"><img src=\"https://colab.research.google.com/assets/colab-badge.svg\" alt=\"Open In Colab\"/></a>"
      ]
    },
    {
      "cell_type": "code",
      "metadata": {
        "id": "e2L6X3LtRtYT",
        "colab_type": "code",
        "colab": {
          "base_uri": "https://localhost:8080/",
          "height": 34
        },
        "outputId": "0d652ae3-5a3d-4d5b-8f77-5d56e70396c8"
      },
      "source": [
        "#Shekhar's Python workshop No1\n",
        "#Q1\n",
        "\n",
        "inputarray = [7,8,10,11111110]\n",
        "def oddoreven(inputarray):\n",
        "\n",
        "    odd=[x for x in inputarray if x % 2 > 0]\n",
        "    even=[x for x in inputarray if x % 2 <= 0]\n",
        "    if len(odd) == 1:\n",
        "     return odd\n",
        "    if len(even) == 1:\n",
        "     return even \n",
        "    else:\n",
        "     return 'something went wrong'\n",
        "\n",
        "print(oddoreven(inputarray))"
      ],
      "execution_count": 42,
      "outputs": [
        {
          "output_type": "stream",
          "text": [
            "[7]\n"
          ],
          "name": "stdout"
        }
      ]
    },
    {
      "cell_type": "code",
      "metadata": {
        "id": "MyAydmFwUPaB",
        "colab_type": "code",
        "colab": {
          "base_uri": "https://localhost:8080/",
          "height": 34
        },
        "outputId": "00d3956a-1353-40cf-bedf-a48d78812e4b"
      },
      "source": [
        "a=[1,2,3,5,'ajshdfiw']\n",
        "len(a)\n",
        "inputarray = [6,8,10,9]\n",
        "even=[x for x in inputarray if x % 2 <= 0]\n",
        "print(even)"
      ],
      "execution_count": 32,
      "outputs": [
        {
          "output_type": "stream",
          "text": [
            "[6, 8, 10]\n"
          ],
          "name": "stdout"
        }
      ]
    },
    {
      "cell_type": "code",
      "metadata": {
        "id": "4piDstvY6cyX",
        "colab_type": "code",
        "colab": {
          "base_uri": "https://localhost:8080/",
          "height": 68
        },
        "outputId": "fe39ed29-9e4c-493f-f69f-f413b5b82a0b"
      },
      "source": [
        "#Q2\n",
        "\n",
        "a=[5,6,8,100,1000]\n",
        "b=[6,8,10]\n",
        "\n",
        "def array_diff(a,b):\n",
        "  result = [x for x in a if x not in b]\n",
        "  return (result)\n",
        "\n",
        "print(array_diff(a,b))\n",
        "\n",
        "print(array_diff([1,2],[1]))\n",
        "print(array_diff([1,2,2], [2]))"
      ],
      "execution_count": 72,
      "outputs": [
        {
          "output_type": "stream",
          "text": [
            "[5, 100, 1000]\n",
            "[2]\n",
            "[1]\n"
          ],
          "name": "stdout"
        }
      ]
    },
    {
      "cell_type": "code",
      "metadata": {
        "id": "aEGvroWjFmKo",
        "colab_type": "code",
        "colab": {
          "base_uri": "https://localhost:8080/",
          "height": 51
        },
        "outputId": "b8c65783-2395-4e73-bf78-daf0ce03051e"
      },
      "source": [
        "#Q3\n",
        "names=[{'name': 'Bart'},{'name': 'Lisa'},{'name': 'Maggie'},{'name': 'Homer'},{'name': 'Marge'}]\n",
        "\n",
        "def namelist(names):\n",
        "  names = [item['name'] for item in names]\n",
        "  n = len(names)\n",
        "  if n == 0:\n",
        "   return('')\n",
        "  if n == 1:\n",
        "   return(names[0])\n",
        "  else:\n",
        "   return(print(','.join(names[:-1]), names[n-1], sep='&'))\n",
        "\n",
        "print(namelist(names))\n",
        "\n",
        "\n",
        "   \n",
        "  "
      ],
      "execution_count": 145,
      "outputs": [
        {
          "output_type": "stream",
          "text": [
            "Bart,Lisa,Maggie,Homer&Marge\n",
            "None\n"
          ],
          "name": "stdout"
        }
      ]
    }
  ]
}