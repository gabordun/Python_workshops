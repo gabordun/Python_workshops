{
  "nbformat": 4,
  "nbformat_minor": 0,
  "metadata": {
    "colab": {
      "name": "workshop1.ipynb",
      "version": "0.3.2",
      "provenance": [],
      "collapsed_sections": [],
      "include_colab_link": true
    },
    "kernelspec": {
      "name": "python3",
      "display_name": "Python 3"
    }
  },
  "cells": [
    {
      "cell_type": "markdown",
      "metadata": {
        "id": "view-in-github",
        "colab_type": "text"
      },
      "source": [
        "<a href=\"https://colab.research.google.com/github/gabordun/Python_workshops/blob/master/workshop1.ipynb\" target=\"_parent\"><img src=\"https://colab.research.google.com/assets/colab-badge.svg\" alt=\"Open In Colab\"/></a>"
      ]
    },
    {
      "cell_type": "code",
      "metadata": {
        "id": "e2L6X3LtRtYT",
        "colab_type": "code",
        "outputId": "0d652ae3-5a3d-4d5b-8f77-5d56e70396c8",
        "colab": {
          "base_uri": "https://localhost:8080/",
          "height": 34
        }
      },
      "source": [
        "#Shekhar's Python workshop No1\n",
        "#Q1\n",
        "\n",
        "inputarray = [7,8,10,11111110]\n",
        "def oddoreven(inputarray):\n",
        "\n",
        "    odd=[x for x in inputarray if x % 2 > 0]\n",
        "    even=[x for x in inputarray if x % 2 <= 0]\n",
        "    if len(odd) == 1:\n",
        "     return odd\n",
        "    if len(even) == 1:\n",
        "     return even \n",
        "    else:\n",
        "     return 'something went wrong'\n",
        "\n",
        "print(oddoreven(inputarray))"
      ],
      "execution_count": 0,
      "outputs": [
        {
          "output_type": "stream",
          "text": [
            "[7]\n"
          ],
          "name": "stdout"
        }
      ]
    },
    {
      "cell_type": "code",
      "metadata": {
        "id": "MyAydmFwUPaB",
        "colab_type": "code",
        "outputId": "00d3956a-1353-40cf-bedf-a48d78812e4b",
        "colab": {
          "base_uri": "https://localhost:8080/",
          "height": 34
        }
      },
      "source": [
        "a=[1,2,3,5,'ajshdfiw']\n",
        "len(a)\n",
        "inputarray = [6,8,10,9]\n",
        "even=[x for x in inputarray if x % 2 <= 0]\n",
        "print(even)"
      ],
      "execution_count": 0,
      "outputs": [
        {
          "output_type": "stream",
          "text": [
            "[6, 8, 10]\n"
          ],
          "name": "stdout"
        }
      ]
    },
    {
      "cell_type": "code",
      "metadata": {
        "id": "4piDstvY6cyX",
        "colab_type": "code",
        "outputId": "fe39ed29-9e4c-493f-f69f-f413b5b82a0b",
        "colab": {
          "base_uri": "https://localhost:8080/",
          "height": 68
        }
      },
      "source": [
        "#Q2\n",
        "\n",
        "a=[5,6,8,100,1000]\n",
        "b=[6,8,10]\n",
        "\n",
        "def array_diff(a,b):\n",
        "  result = [x for x in a if x not in b]\n",
        "  return (result)\n",
        "\n",
        "print(array_diff(a,b))\n",
        "\n",
        "print(array_diff([1,2],[1]))\n",
        "print(array_diff([1,2,2], [2]))"
      ],
      "execution_count": 0,
      "outputs": [
        {
          "output_type": "stream",
          "text": [
            "[5, 100, 1000]\n",
            "[2]\n",
            "[1]\n"
          ],
          "name": "stdout"
        }
      ]
    },
    {
      "cell_type": "code",
      "metadata": {
        "id": "aEGvroWjFmKo",
        "colab_type": "code",
        "outputId": "b5823eb7-53db-4f91-c4dc-6aef2142fb39",
        "colab": {
          "base_uri": "https://localhost:8080/",
          "height": 51
        }
      },
      "source": [
        "#Q3\n",
        "names=[{'name': 'Bart'},{'name': 'Lisa'},{'name': 'Maggie'},{'name': 'Homer'},{'name': 'Marge'}]\n",
        "\n",
        "def namelist(names):\n",
        "  names = [item['name'] for item in names]\n",
        "  n = len(names)\n",
        "  if n == 0:\n",
        "   return('')\n",
        "  if n == 1:\n",
        "   return(names[0])\n",
        "  else:\n",
        "   return(print(' , '.join(names[:-1]), names[n-1], sep=' & '))\n",
        "\n",
        "print(namelist(names))\n",
        "\n",
        "\n",
        "   \n",
        "  "
      ],
      "execution_count": 0,
      "outputs": [
        {
          "output_type": "stream",
          "text": [
            "Bart , Lisa , Maggie , Homer & Marge\n",
            "None\n"
          ],
          "name": "stdout"
        }
      ]
    },
    {
      "cell_type": "code",
      "metadata": {
        "id": "SyAaks-go140",
        "colab_type": "code",
        "outputId": "32c8a1cb-b7ee-446f-d468-974f08897b67",
        "colab": {
          "base_uri": "https://localhost:8080/",
          "height": 34
        }
      },
      "source": [
        "#Q4\n",
        "input = [1,2,'aasf','1','123',123]\n",
        "\n",
        "def filteringstrings(input):\n",
        "  result = [x for x in input if isinstance(x, str) == False]\n",
        "  return(result)\n",
        "\n",
        "print(filteringstrings(input))"
      ],
      "execution_count": 0,
      "outputs": [
        {
          "output_type": "stream",
          "text": [
            "[1, 2, 123]\n"
          ],
          "name": "stdout"
        }
      ]
    },
    {
      "cell_type": "code",
      "metadata": {
        "id": "7nHUpUrNqWJ7",
        "colab_type": "code",
        "outputId": "ccd7d3f3-004f-4954-b118-0beaed3b772f",
        "colab": {
          "base_uri": "https://localhost:8080/",
          "height": 34
        }
      },
      "source": [
        "#Q5\n",
        "integers = [20,1,-1,2,-2,3,3,5,5,1,2,4,20,4,-1,-2,5]\n",
        "\n",
        "from collections import Counter\n",
        "\n",
        "def find_it(integers):\n",
        "  mydict=Counter(integers)\n",
        "  odd=[x for x in mydict.values() if x % 2 > 0]\n",
        "  result=list(mydict.keys())[list(mydict.values()).index(odd[0])]\n",
        "  return(result)\n",
        "\n",
        "print(find_it(integers))\n",
        "\n",
        "\n"
      ],
      "execution_count": 0,
      "outputs": [
        {
          "output_type": "stream",
          "text": [
            "-2\n"
          ],
          "name": "stdout"
        }
      ]
    },
    {
      "cell_type": "code",
      "metadata": {
        "id": "zzR-LZ2uKT97",
        "colab_type": "code",
        "outputId": "6a524831-3fcc-4f6c-ab49-70e711404526",
        "colab": {
          "base_uri": "https://localhost:8080/",
          "height": 34
        }
      },
      "source": [
        "#Q6\n",
        "string=('zzoo')\n",
        "\n",
        "def XOcounter(string):\n",
        "  xcount=string.count('x')\n",
        "  ocount=string.count('o')\n",
        "  Xcount=string.count('X')\n",
        "  Ocount=string.count('O')\n",
        "  if xcount+Xcount==ocount+Ocount:\n",
        "   return 'true'\n",
        "  if xcount+Xcount==0 and ocount+Ocount ==0:\n",
        "   return 'false'\n",
        "  else:\n",
        "   return 'false'\n",
        "  \n",
        "print(XOcounter(string))\n",
        "  \n",
        "    "
      ],
      "execution_count": 8,
      "outputs": [
        {
          "output_type": "stream",
          "text": [
            "false\n"
          ],
          "name": "stdout"
        }
      ]
    },
    {
      "cell_type": "code",
      "metadata": {
        "colab_type": "code",
        "id": "WxuHay3lGESL",
        "colab": {
          "base_uri": "https://localhost:8080/",
          "height": 34
        },
        "outputId": "3228e0b3-1a07-4dae-da27-1a75d0844647"
      },
      "source": [
        "#Q7\n",
        "pincode = ['12q5']\n",
        "\n",
        "def validate_pin(pincode):\n",
        "  pincount=list(pincode[0])\n",
        "  result= [x for x in pincount if x.isdigit()]\n",
        "  if len(result) == 4:\n",
        "    return True\n",
        "  else:\n",
        "    return False\n",
        "  \n",
        "print(validate_pin(pincode))"
      ],
      "execution_count": 36,
      "outputs": [
        {
          "output_type": "stream",
          "text": [
            "False\n"
          ],
          "name": "stdout"
        }
      ]
    },
    {
      "cell_type": "code",
      "metadata": {
        "id": "M1S-n8v_GzHw",
        "colab_type": "code",
        "colab": {
          "base_uri": "https://localhost:8080/",
          "height": 34
        },
        "outputId": "bc04cd90-64b3-484a-af93-aa563b2daa3c"
      },
      "source": [
        "#Q8\n",
        "strings = 'aa bbb , 28 3801230w213'\n",
        "\n",
        "def shortest(strings):\n",
        "  return min(list(map(len, strings.split())))\n",
        "  \n",
        "print(shortest(strings))\n",
        "  "
      ],
      "execution_count": 17,
      "outputs": [
        {
          "output_type": "stream",
          "text": [
            "1\n"
          ],
          "name": "stdout"
        }
      ]
    },
    {
      "cell_type": "code",
      "metadata": {
        "id": "Vn-R2n7pSnN5",
        "colab_type": "code",
        "colab": {
          "base_uri": "https://localhost:8080/",
          "height": 51
        },
        "outputId": "0264629b-eebe-4fd8-a74f-1e6eac8c51e3"
      },
      "source": [
        "#Q9\n",
        "alphabet = ['a','b','c','d','e','f','g','h','i','j','k','l','m','n','o','p','q','r','s','t','u','v','w','x','y','z',\n",
        "         'A','B','C','D','E','F','G','H','I','J','K','L','M','N','O','P','Q','R','S','T','U','V','W','X','Y','Z']\n",
        "letters = ['e','f','h','i','j','k','l']\n",
        "\n",
        "def consecutive(letters):\n",
        "  helpline = list(alphabet[alphabet.index(letters[0]):alphabet.index(letters[len(letters)-1])])\n",
        "  result = [x for x in helpline if x not in letters]\n",
        "  return result\n",
        "\n",
        "print(consecutive(letters))\n",
        "helpline = list(alphabet[alphabet.index(letters[0]):alphabet.index(letters[len(letters)-1])])\n",
        "helpline"
      ],
      "execution_count": 110,
      "outputs": [
        {
          "output_type": "stream",
          "text": [
            "['g']\n"
          ],
          "name": "stdout"
        },
        {
          "output_type": "execute_result",
          "data": {
            "text/plain": [
              "['e', 'f', 'g', 'h', 'i', 'j', 'k']"
            ]
          },
          "metadata": {
            "tags": []
          },
          "execution_count": 110
        }
      ]
    }
  ]
}