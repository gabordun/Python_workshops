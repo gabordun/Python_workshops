{
  "nbformat": 4,
  "nbformat_minor": 0,
  "metadata": {
    "colab": {
      "name": "workshop1.ipynb",
      "version": "0.3.2",
      "provenance": [],
      "collapsed_sections": [],
      "include_colab_link": true
    },
    "kernelspec": {
      "name": "python3",
      "display_name": "Python 3"
    }
  },
  "cells": [
    {
      "cell_type": "markdown",
      "metadata": {
        "id": "view-in-github",
        "colab_type": "text"
      },
      "source": [
        "<a href=\"https://colab.research.google.com/github/gabordun/Python_workshops/blob/master/workshop1.ipynb\" target=\"_parent\"><img src=\"https://colab.research.google.com/assets/colab-badge.svg\" alt=\"Open In Colab\"/></a>"
      ]
    },
    {
      "cell_type": "code",
      "metadata": {
        "id": "e2L6X3LtRtYT",
        "colab_type": "code",
        "outputId": "0d652ae3-5a3d-4d5b-8f77-5d56e70396c8",
        "colab": {
          "base_uri": "https://localhost:8080/",
          "height": 34
        }
      },
      "source": [
        "#Shekhar's Python workshop No1\n",
        "#Q1\n",
        "\n",
        "inputarray = [7,8,10,11111110]\n",
        "def oddoreven(inputarray):\n",
        "\n",
        "    odd=[x for x in inputarray if x % 2 > 0]\n",
        "    even=[x for x in inputarray if x % 2 <= 0]\n",
        "    if len(odd) == 1:\n",
        "     return odd\n",
        "    if len(even) == 1:\n",
        "     return even \n",
        "    else:\n",
        "     return 'something went wrong'\n",
        "\n",
        "print(oddoreven(inputarray))"
      ],
      "execution_count": 0,
      "outputs": [
        {
          "output_type": "stream",
          "text": [
            "[7]\n"
          ],
          "name": "stdout"
        }
      ]
    },
    {
      "cell_type": "code",
      "metadata": {
        "id": "MyAydmFwUPaB",
        "colab_type": "code",
        "outputId": "00d3956a-1353-40cf-bedf-a48d78812e4b",
        "colab": {
          "base_uri": "https://localhost:8080/",
          "height": 34
        }
      },
      "source": [
        "a=[1,2,3,5,'ajshdfiw']\n",
        "len(a)\n",
        "inputarray = [6,8,10,9]\n",
        "even=[x for x in inputarray if x % 2 <= 0]\n",
        "print(even)"
      ],
      "execution_count": 0,
      "outputs": [
        {
          "output_type": "stream",
          "text": [
            "[6, 8, 10]\n"
          ],
          "name": "stdout"
        }
      ]
    },
    {
      "cell_type": "code",
      "metadata": {
        "id": "4piDstvY6cyX",
        "colab_type": "code",
        "outputId": "fe39ed29-9e4c-493f-f69f-f413b5b82a0b",
        "colab": {
          "base_uri": "https://localhost:8080/",
          "height": 68
        }
      },
      "source": [
        "#Q2\n",
        "\n",
        "a=[5,6,8,100,1000]\n",
        "b=[6,8,10]\n",
        "\n",
        "def array_diff(a,b):\n",
        "  result = [x for x in a if x not in b]\n",
        "  return (result)\n",
        "\n",
        "print(array_diff(a,b))\n",
        "\n",
        "print(array_diff([1,2],[1]))\n",
        "print(array_diff([1,2,2], [2]))"
      ],
      "execution_count": 0,
      "outputs": [
        {
          "output_type": "stream",
          "text": [
            "[5, 100, 1000]\n",
            "[2]\n",
            "[1]\n"
          ],
          "name": "stdout"
        }
      ]
    },
    {
      "cell_type": "code",
      "metadata": {
        "id": "aEGvroWjFmKo",
        "colab_type": "code",
        "outputId": "b5823eb7-53db-4f91-c4dc-6aef2142fb39",
        "colab": {
          "base_uri": "https://localhost:8080/",
          "height": 51
        }
      },
      "source": [
        "#Q3\n",
        "names=[{'name': 'Bart'},{'name': 'Lisa'},{'name': 'Maggie'},{'name': 'Homer'},{'name': 'Marge'}]\n",
        "\n",
        "def namelist(names):\n",
        "  names = [item['name'] for item in names]\n",
        "  n = len(names)\n",
        "  if n == 0:\n",
        "   return('')\n",
        "  if n == 1:\n",
        "   return(names[0])\n",
        "  else:\n",
        "   return(print(' , '.join(names[:-1]), names[n-1], sep=' & '))\n",
        "\n",
        "print(namelist(names))\n",
        "\n",
        "\n",
        "   \n",
        "  "
      ],
      "execution_count": 2,
      "outputs": [
        {
          "output_type": "stream",
          "text": [
            "Bart , Lisa , Maggie , Homer & Marge\n",
            "None\n"
          ],
          "name": "stdout"
        }
      ]
    },
    {
      "cell_type": "code",
      "metadata": {
        "id": "SyAaks-go140",
        "colab_type": "code",
        "colab": {
          "base_uri": "https://localhost:8080/",
          "height": 34
        },
        "outputId": "32c8a1cb-b7ee-446f-d468-974f08897b67"
      },
      "source": [
        "#Q4\n",
        "input = [1,2,'aasf','1','123',123]\n",
        "\n",
        "def filteringstrings(input):\n",
        "  result = [x for x in input if isinstance(x, str) == False]\n",
        "  return(result)\n",
        "\n",
        "print(filteringstrings(input))"
      ],
      "execution_count": 16,
      "outputs": [
        {
          "output_type": "stream",
          "text": [
            "[1, 2, 123]\n"
          ],
          "name": "stdout"
        }
      ]
    },
    {
      "cell_type": "code",
      "metadata": {
        "id": "7nHUpUrNqWJ7",
        "colab_type": "code",
        "colab": {
          "base_uri": "https://localhost:8080/",
          "height": 51
        },
        "outputId": "2e93406e-48d8-48f6-80fc-19be26a50735"
      },
      "source": [
        "#Q5\n",
        "input = [20,1,-1,2,-2,3,3,5,5,1,2,4,20,4,-1,-2,5]\n",
        "\n",
        "def find_it(input):\n",
        "  result = input.count([x for x in input])\n",
        "  return (result)\n",
        "\n",
        "print(find_it(input))\n",
        "\n",
        "n = len(input)\n",
        "output = [x for n in input ]\n",
        "input.count(input[0:n-2])"
      ],
      "execution_count": 21,
      "outputs": [
        {
          "output_type": "stream",
          "text": [
            "0\n"
          ],
          "name": "stdout"
        },
        {
          "output_type": "execute_result",
          "data": {
            "text/plain": [
              "0"
            ]
          },
          "metadata": {
            "tags": []
          },
          "execution_count": 21
        }
      ]
    }
  ]
}