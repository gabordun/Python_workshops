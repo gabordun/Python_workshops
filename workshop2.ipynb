{
  "nbformat": 4,
  "nbformat_minor": 0,
  "metadata": {
    "colab": {
      "name": "Untitled0.ipynb",
      "version": "0.3.2",
      "provenance": [],
      "include_colab_link": true
    },
    "kernelspec": {
      "name": "python3",
      "display_name": "Python 3"
    }
  },
  "cells": [
    {
      "cell_type": "markdown",
      "metadata": {
        "id": "view-in-github",
        "colab_type": "text"
      },
      "source": [
        "<a href=\"https://colab.research.google.com/github/gabordun/Python_workshops/blob/master/workshop2.ipynb\" target=\"_parent\"><img src=\"https://colab.research.google.com/assets/colab-badge.svg\" alt=\"Open In Colab\"/></a>"
      ]
    },
    {
      "cell_type": "code",
      "metadata": {
        "id": "3FdFsbbBO-7S",
        "colab_type": "code",
        "outputId": "f9386964-457e-4cfd-e6c7-8d55ded26f95",
        "colab": {
          "base_uri": "https://localhost:8080/",
          "height": 34
        }
      },
      "source": [
        "#Shekhar's Python workshop No2\n",
        "#Q1\n",
        "string = 'abracadabra'\n",
        "\n",
        "def ordered_count(string):\n",
        "  elements = list(string)\n",
        "  result = [string.count(elements[i]) for i in range(0,len(elements))]\n",
        "  result2 = list(tuple(zip(elements,result)))\n",
        "  result3 = []\n",
        "  for i in result2:\n",
        "    if i not in result3:\n",
        "     result3.append(i)\n",
        "  return result3\n",
        "\n",
        "print(ordered_count(string))"
      ],
      "execution_count": 0,
      "outputs": [
        {
          "output_type": "stream",
          "text": [
            "[('a', 5), ('b', 2), ('r', 2), ('c', 1), ('d', 1)]\n"
          ],
          "name": "stdout"
        }
      ]
    },
    {
      "cell_type": "code",
      "metadata": {
        "id": "nIWkaN81uL1O",
        "colab_type": "code",
        "colab": {
          "base_uri": "https://localhost:8080/",
          "height": 34
        },
        "outputId": "2e62e5ee-b53a-4f7b-f258-064cf52ba45b"
      },
      "source": [
        "#Q2\n",
        "string = '{}[]()(){}'\n",
        "\n",
        "def valid_braces(string):\n",
        "  backwards = string[::-1]\n",
        "  result = list(string + backwards)\n",
        "  #result = list(tuple(zip(string, backwards)))\n",
        "  \n",
        "  #for i in range(0,len(elements)/2):\n",
        "  return result\n",
        "\n",
        "print(valid_braces(string))\n",
        "    \n",
        "  "
      ],
      "execution_count": 20,
      "outputs": [
        {
          "output_type": "stream",
          "text": [
            "['{', '}', '[', ']', '(', ')', '(', ')', '{', '}', '}', '{', ')', '(', ')', '(', ']', '[', '}', '{']\n"
          ],
          "name": "stdout"
        }
      ]
    },
    {
      "cell_type": "code",
      "metadata": {
        "id": "r_-gfOQtypyM",
        "colab_type": "code",
        "colab": {
          "base_uri": "https://localhost:8080/",
          "height": 170
        },
        "outputId": "37d4f5b5-8967-4669-cc84-868fe6bbff5b"
      },
      "source": [
        "braces = list(string)\n",
        "for i in range(0,len(braces)-1):\n",
        " print(braces[i:i+2])"
      ],
      "execution_count": 21,
      "outputs": [
        {
          "output_type": "stream",
          "text": [
            "['{', '}']\n",
            "['}', '[']\n",
            "['[', ']']\n",
            "[']', '(']\n",
            "['(', ')']\n",
            "[')', '(']\n",
            "['(', ')']\n",
            "[')', '{']\n",
            "['{', '}']\n"
          ],
          "name": "stdout"
        }
      ]
    },
    {
      "cell_type": "code",
      "metadata": {
        "id": "meqOQhc_0pzb",
        "colab_type": "code",
        "colab": {
          "base_uri": "https://localhost:8080/",
          "height": 231
        },
        "outputId": "6b3f8f94-873e-4f1f-a8a4-655751f35417"
      },
      "source": [
        "backwards = string[::-1]\n",
        "braces = list(string+backwards)\n",
        "\n",
        "for i in range (0,len(braces)-1):\n",
        "  if braces[i+1] == braces[i]:\n",
        "    braces.pop[i]\n",
        "  else:\n",
        "    braces"
      ],
      "execution_count": 31,
      "outputs": [
        {
          "output_type": "error",
          "ename": "TypeError",
          "evalue": "ignored",
          "traceback": [
            "\u001b[0;31m---------------------------------------------------------------------------\u001b[0m",
            "\u001b[0;31mTypeError\u001b[0m                                 Traceback (most recent call last)",
            "\u001b[0;32m<ipython-input-31-d0924ef81b27>\u001b[0m in \u001b[0;36m<module>\u001b[0;34m()\u001b[0m\n\u001b[1;32m      4\u001b[0m \u001b[0;32mfor\u001b[0m \u001b[0mi\u001b[0m \u001b[0;32min\u001b[0m \u001b[0mrange\u001b[0m \u001b[0;34m(\u001b[0m\u001b[0;36m0\u001b[0m\u001b[0;34m,\u001b[0m\u001b[0mlen\u001b[0m\u001b[0;34m(\u001b[0m\u001b[0mbraces\u001b[0m\u001b[0;34m)\u001b[0m\u001b[0;34m-\u001b[0m\u001b[0;36m1\u001b[0m\u001b[0;34m)\u001b[0m\u001b[0;34m:\u001b[0m\u001b[0;34m\u001b[0m\u001b[0;34m\u001b[0m\u001b[0m\n\u001b[1;32m      5\u001b[0m   \u001b[0;32mif\u001b[0m \u001b[0mbraces\u001b[0m\u001b[0;34m[\u001b[0m\u001b[0mi\u001b[0m\u001b[0;34m+\u001b[0m\u001b[0;36m1\u001b[0m\u001b[0;34m]\u001b[0m \u001b[0;34m==\u001b[0m \u001b[0mbraces\u001b[0m\u001b[0;34m[\u001b[0m\u001b[0mi\u001b[0m\u001b[0;34m]\u001b[0m\u001b[0;34m:\u001b[0m\u001b[0;34m\u001b[0m\u001b[0;34m\u001b[0m\u001b[0m\n\u001b[0;32m----> 6\u001b[0;31m     \u001b[0mbraces\u001b[0m\u001b[0;34m.\u001b[0m\u001b[0mpop\u001b[0m\u001b[0;34m[\u001b[0m\u001b[0mi\u001b[0m\u001b[0;34m]\u001b[0m\u001b[0;34m\u001b[0m\u001b[0;34m\u001b[0m\u001b[0m\n\u001b[0m\u001b[1;32m      7\u001b[0m   \u001b[0;32melse\u001b[0m\u001b[0;34m:\u001b[0m\u001b[0;34m\u001b[0m\u001b[0;34m\u001b[0m\u001b[0m\n\u001b[1;32m      8\u001b[0m     \u001b[0mbraces\u001b[0m\u001b[0;34m\u001b[0m\u001b[0;34m\u001b[0m\u001b[0m\n",
            "\u001b[0;31mTypeError\u001b[0m: 'builtin_function_or_method' object is not subscriptable"
          ]
        }
      ]
    }
  ]
}