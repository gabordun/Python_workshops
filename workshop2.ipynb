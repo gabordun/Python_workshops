{
  "nbformat": 4,
  "nbformat_minor": 0,
  "metadata": {
    "colab": {
      "name": "Untitled0.ipynb",
      "version": "0.3.2",
      "provenance": [],
      "include_colab_link": true
    },
    "kernelspec": {
      "name": "python3",
      "display_name": "Python 3"
    }
  },
  "cells": [
    {
      "cell_type": "markdown",
      "metadata": {
        "id": "view-in-github",
        "colab_type": "text"
      },
      "source": [
        "<a href=\"https://colab.research.google.com/github/gabordun/Python_workshops/blob/master/workshop2.ipynb\" target=\"_parent\"><img src=\"https://colab.research.google.com/assets/colab-badge.svg\" alt=\"Open In Colab\"/></a>"
      ]
    },
    {
      "cell_type": "code",
      "metadata": {
        "id": "3FdFsbbBO-7S",
        "colab_type": "code",
        "colab": {
          "base_uri": "https://localhost:8080/",
          "height": 34
        },
        "outputId": "f9386964-457e-4cfd-e6c7-8d55ded26f95"
      },
      "source": [
        "#Shekhar's Python workshop No2\n",
        "#Q1\n",
        "string = 'abracadabra'\n",
        "\n",
        "def ordered_count(string):\n",
        "  elements = list(string)\n",
        "  result = [string.count(elements[i]) for i in range(0,len(elements))]\n",
        "  result2 = list(tuple(zip(elements,result)))\n",
        "  result3 = []\n",
        "  for i in result2:\n",
        "    if i not in result3:\n",
        "     result3.append(i)\n",
        "  return result3\n",
        "\n",
        "print(ordered_count(string))"
      ],
      "execution_count": 29,
      "outputs": [
        {
          "output_type": "stream",
          "text": [
            "[('a', 5), ('b', 2), ('r', 2), ('c', 1), ('d', 1)]\n"
          ],
          "name": "stdout"
        }
      ]
    }
  ]
}