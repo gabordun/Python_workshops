{
  "nbformat": 4,
  "nbformat_minor": 0,
  "metadata": {
    "colab": {
      "name": "Untitled0.ipynb",
      "version": "0.3.2",
      "provenance": [],
      "include_colab_link": true
    },
    "kernelspec": {
      "name": "python3",
      "display_name": "Python 3"
    }
  },
  "cells": [
    {
      "cell_type": "markdown",
      "metadata": {
        "id": "view-in-github",
        "colab_type": "text"
      },
      "source": [
        "<a href=\"https://colab.research.google.com/github/gabordun/Python_workshops/blob/master/workshop2.ipynb\" target=\"_parent\"><img src=\"https://colab.research.google.com/assets/colab-badge.svg\" alt=\"Open In Colab\"/></a>"
      ]
    },
    {
      "cell_type": "code",
      "metadata": {
        "id": "3FdFsbbBO-7S",
        "colab_type": "code",
        "outputId": "f9386964-457e-4cfd-e6c7-8d55ded26f95",
        "colab": {
          "base_uri": "https://localhost:8080/",
          "height": 34
        }
      },
      "source": [
        "#Shekhar's Python workshop No2\n",
        "#Q1\n",
        "string = 'abracadabra'\n",
        "\n",
        "def ordered_count(string):\n",
        "  elements = list(string)\n",
        "  result = [string.count(elements[i]) for i in range(0,len(elements))]\n",
        "  result2 = list(tuple(zip(elements,result)))\n",
        "  result3 = []\n",
        "  for i in result2:\n",
        "    if i not in result3:\n",
        "     result3.append(i)\n",
        "  return result3\n",
        "\n",
        "print(ordered_count(string))"
      ],
      "execution_count": 0,
      "outputs": [
        {
          "output_type": "stream",
          "text": [
            "[('a', 5), ('b', 2), ('r', 2), ('c', 1), ('d', 1)]\n"
          ],
          "name": "stdout"
        }
      ]
    },
    {
      "cell_type": "code",
      "metadata": {
        "id": "nIWkaN81uL1O",
        "colab_type": "code",
        "colab": {
          "base_uri": "https://localhost:8080/",
          "height": 34
        },
        "outputId": "2e62e5ee-b53a-4f7b-f258-064cf52ba45b"
      },
      "source": [
        "#Q2\n",
        "string = '{}[]()(){}'\n",
        "\n",
        "def valid_braces(string):\n",
        "  backwards = string[::-1]\n",
        "  result = list(string + backwards)\n",
        "  #result = list(tuple(zip(string, backwards)))\n",
        "  \n",
        "  #for i in range(0,len(elements)/2):\n",
        "  return result\n",
        "\n",
        "print(valid_braces(string))\n",
        "    \n",
        "  "
      ],
      "execution_count": 20,
      "outputs": [
        {
          "output_type": "stream",
          "text": [
            "['{', '}', '[', ']', '(', ')', '(', ')', '{', '}', '}', '{', ')', '(', ')', '(', ']', '[', '}', '{']\n"
          ],
          "name": "stdout"
        }
      ]
    },
    {
      "cell_type": "code",
      "metadata": {
        "id": "r_-gfOQtypyM",
        "colab_type": "code",
        "colab": {
          "base_uri": "https://localhost:8080/",
          "height": 34
        },
        "outputId": "e9340519-b93a-4760-c05a-d30893ed7161"
      },
      "source": [
        "braces = list(string)\n",
        "result = []\n",
        "\n",
        "for i in range(0,len(braces)-1):\n",
        "  if i % 2 <= 0:\n",
        "   result.append(list(tuple(braces[i:i+2])))\n",
        "for i in range(0,len(braces)):\n",
        "   result.append(list(tuple(braces[i and -1])))\n",
        "print(result)"
      ],
      "execution_count": 78,
      "outputs": [
        {
          "output_type": "stream",
          "text": [
            "[['{', '}'], ['[', ']'], ['(', ')'], ['(', ')'], ['{', '}'], ['{'], ['}'], ['}'], ['}'], ['}'], ['}'], ['}'], ['}'], ['}'], ['}']]\n"
          ],
          "name": "stdout"
        }
      ]
    },
    {
      "cell_type": "code",
      "metadata": {
        "id": "meqOQhc_0pzb",
        "colab_type": "code",
        "colab": {
          "base_uri": "https://localhost:8080/",
          "height": 34
        },
        "outputId": "34703e20-3a83-40ae-99d5-463623625eaa"
      },
      "source": [
        "from operator import itemgetter\n",
        "result2 = []\n",
        "\n",
        "for i in range(0,round(len(braces)/2)):\n",
        "  helpline= [i,-i-1]\n",
        "  result2.append(itemgetter(*helpline)(braces))\n",
        "print(result2)"
      ],
      "execution_count": 95,
      "outputs": [
        {
          "output_type": "stream",
          "text": [
            "[('{', '}'), ('}', '{'), ('[', ')'), (']', '('), ('(', ')')]\n"
          ],
          "name": "stdout"
        }
      ]
    }
  ]
}