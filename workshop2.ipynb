{
  "nbformat": 4,
  "nbformat_minor": 0,
  "metadata": {
    "colab": {
      "name": "Untitled0.ipynb",
      "version": "0.3.2",
      "provenance": [],
      "include_colab_link": true
    },
    "kernelspec": {
      "name": "python3",
      "display_name": "Python 3"
    }
  },
  "cells": [
    {
      "cell_type": "markdown",
      "metadata": {
        "id": "view-in-github",
        "colab_type": "text"
      },
      "source": [
        "<a href=\"https://colab.research.google.com/github/gabordun/Python_workshops/blob/master/workshop2.ipynb\" target=\"_parent\"><img src=\"https://colab.research.google.com/assets/colab-badge.svg\" alt=\"Open In Colab\"/></a>"
      ]
    },
    {
      "cell_type": "code",
      "metadata": {
        "id": "3FdFsbbBO-7S",
        "colab_type": "code",
        "outputId": "f9386964-457e-4cfd-e6c7-8d55ded26f95",
        "colab": {
          "base_uri": "https://localhost:8080/",
          "height": 34
        }
      },
      "source": [
        "#Shekhar's Python workshop No2\n",
        "#Q1\n",
        "string = 'abracadabra'\n",
        "\n",
        "def ordered_count(string):\n",
        "  elements = list(string)\n",
        "  result = [string.count(elements[i]) for i in range(0,len(elements))]\n",
        "  result2 = list(tuple(zip(elements,result)))\n",
        "  result3 = []\n",
        "  for i in result2:\n",
        "    if i not in result3:\n",
        "     result3.append(i)\n",
        "  return result3\n",
        "\n",
        "print(ordered_count(string))"
      ],
      "execution_count": 0,
      "outputs": [
        {
          "output_type": "stream",
          "text": [
            "[('a', 5), ('b', 2), ('r', 2), ('c', 1), ('d', 1)]\n"
          ],
          "name": "stdout"
        }
      ]
    },
    {
      "cell_type": "code",
      "metadata": {
        "id": "nIWkaN81uL1O",
        "colab_type": "code",
        "outputId": "74ad6c64-8822-4cae-92e6-cb64fc66b788",
        "colab": {
          "base_uri": "https://localhost:8080/",
          "height": 34
        }
      },
      "source": [
        "#Q2\n",
        "string = '(){}{}{}{}{}'\n",
        "\n",
        "def valid_braces(string):\n",
        " braces = list(string)\n",
        " result = []\n",
        "\n",
        " for i in range(0,len(braces)-1):\n",
        "  if i % 2 <= 0:\n",
        "   result.append(list(braces[i:i+2]))\n",
        "  \n",
        " from operator import itemgetter\n",
        " result2 = []\n",
        "\n",
        " for i in range(0,round(len(braces)/2)):\n",
        "  helpline= [i,-i-1]\n",
        "  result2.append(itemgetter(*helpline)(braces))\n",
        "  \n",
        " valid = [('{', '}'), ('[', ']'), ('(', ')'),['{', '}'], ['[', ']'], ['(', ')']]\n",
        " result3 = []\n",
        " for i in range(0,round(len(braces)/2)):\n",
        "  if result2[i] in valid or\\\n",
        "     result[i] in valid:\n",
        "    result3.append(1)\n",
        "\n",
        " if len(result3) == round(len(braces)/2):\n",
        "  return('true')\n",
        " else:\n",
        "  return('false')\n",
        "\n",
        "print(valid_braces(string))\n",
        "  "
      ],
      "execution_count": 0,
      "outputs": [
        {
          "output_type": "stream",
          "text": [
            "true\n"
          ],
          "name": "stdout"
        }
      ]
    },
    {
      "cell_type": "code",
      "metadata": {
        "id": "53XtbZscg0ni",
        "colab_type": "code",
        "outputId": "d8be2b25-0590-471a-89eb-ec22f9f94c60",
        "colab": {
          "base_uri": "https://localhost:8080/",
          "height": 34
        }
      },
      "source": [
        "#Q3\n",
        "number = 1635\n",
        "\n",
        "def narcissistic(number):\n",
        "  nodes = list(str(number))\n",
        "  length = len(nodes)\n",
        "  result = 0\n",
        "  for i in range(0,length):\n",
        "   result = result + int(nodes[i])**length\n",
        "  if result == number:\n",
        "   return('true')\n",
        "  else:\n",
        "   return('false')\n",
        "\n",
        "print(narcissistic(number))"
      ],
      "execution_count": 12,
      "outputs": [
        {
          "output_type": "stream",
          "text": [
            "false\n"
          ],
          "name": "stdout"
        }
      ]
    },
    {
      "cell_type": "code",
      "metadata": {
        "id": "rtuza6M5g61T",
        "colab_type": "code",
        "outputId": "58f74694-c26f-450d-d6cd-8e9f9b1b4c37",
        "colab": {
          "base_uri": "https://localhost:8080/",
          "height": 248
        }
      },
      "source": [
        "#Q4\n"
      ],
      "execution_count": 7,
      "outputs": [
        {
          "output_type": "stream",
          "text": [
            "['1', '5', '3']\n",
            "3\n"
          ],
          "name": "stdout"
        },
        {
          "output_type": "error",
          "ename": "TypeError",
          "evalue": "ignored",
          "traceback": [
            "\u001b[0;31m---------------------------------------------------------------------------\u001b[0m",
            "\u001b[0;31mTypeError\u001b[0m                                 Traceback (most recent call last)",
            "\u001b[0;32m<ipython-input-7-24e81311fd97>\u001b[0m in \u001b[0;36m<module>\u001b[0;34m()\u001b[0m\n\u001b[1;32m      3\u001b[0m \u001b[0mlength\u001b[0m \u001b[0;34m=\u001b[0m \u001b[0mlen\u001b[0m\u001b[0;34m(\u001b[0m\u001b[0mlist\u001b[0m\u001b[0;34m(\u001b[0m\u001b[0mstr\u001b[0m\u001b[0;34m(\u001b[0m\u001b[0mnumber\u001b[0m\u001b[0;34m)\u001b[0m\u001b[0;34m)\u001b[0m\u001b[0;34m)\u001b[0m\u001b[0;34m\u001b[0m\u001b[0;34m\u001b[0m\u001b[0m\n\u001b[1;32m      4\u001b[0m \u001b[0mprint\u001b[0m\u001b[0;34m(\u001b[0m\u001b[0mlength\u001b[0m\u001b[0;34m)\u001b[0m\u001b[0;34m\u001b[0m\u001b[0;34m\u001b[0m\u001b[0m\n\u001b[0;32m----> 5\u001b[0;31m \u001b[0mresult\u001b[0m \u001b[0;34m=\u001b[0m \u001b[0mnodes\u001b[0m\u001b[0;34m**\u001b[0m\u001b[0mlength\u001b[0m\u001b[0;34m\u001b[0m\u001b[0;34m\u001b[0m\u001b[0m\n\u001b[0m\u001b[1;32m      6\u001b[0m \u001b[0mprint\u001b[0m\u001b[0;34m(\u001b[0m\u001b[0mresult\u001b[0m\u001b[0;34m)\u001b[0m\u001b[0;34m\u001b[0m\u001b[0;34m\u001b[0m\u001b[0m\n",
            "\u001b[0;31mTypeError\u001b[0m: unsupported operand type(s) for ** or pow(): 'list' and 'int'"
          ]
        }
      ]
    }
  ]
}