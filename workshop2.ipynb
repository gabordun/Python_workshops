{
  "nbformat": 4,
  "nbformat_minor": 0,
  "metadata": {
    "colab": {
      "name": "Untitled0.ipynb",
      "version": "0.3.2",
      "provenance": [],
      "include_colab_link": true
    },
    "kernelspec": {
      "name": "python3",
      "display_name": "Python 3"
    }
  },
  "cells": [
    {
      "cell_type": "markdown",
      "metadata": {
        "id": "view-in-github",
        "colab_type": "text"
      },
      "source": [
        "<a href=\"https://colab.research.google.com/github/gabordun/Python_workshops/blob/master/workshop2.ipynb\" target=\"_parent\"><img src=\"https://colab.research.google.com/assets/colab-badge.svg\" alt=\"Open In Colab\"/></a>"
      ]
    },
    {
      "cell_type": "code",
      "metadata": {
        "id": "3FdFsbbBO-7S",
        "colab_type": "code",
        "outputId": "f9386964-457e-4cfd-e6c7-8d55ded26f95",
        "colab": {
          "base_uri": "https://localhost:8080/",
          "height": 34
        }
      },
      "source": [
        "#Shekhar's Python workshop No2\n",
        "#Q1\n",
        "string = 'abracadabra'\n",
        "\n",
        "def ordered_count(string):\n",
        "  elements = list(string)\n",
        "  result = [string.count(elements[i]) for i in range(0,len(elements))]\n",
        "  result2 = list(tuple(zip(elements,result)))\n",
        "  result3 = []\n",
        "  for i in result2:\n",
        "    if i not in result3:\n",
        "     result3.append(i)\n",
        "  return result3\n",
        "\n",
        "print(ordered_count(string))"
      ],
      "execution_count": 0,
      "outputs": [
        {
          "output_type": "stream",
          "text": [
            "[('a', 5), ('b', 2), ('r', 2), ('c', 1), ('d', 1)]\n"
          ],
          "name": "stdout"
        }
      ]
    },
    {
      "cell_type": "code",
      "metadata": {
        "id": "nIWkaN81uL1O",
        "colab_type": "code",
        "outputId": "74ad6c64-8822-4cae-92e6-cb64fc66b788",
        "colab": {
          "base_uri": "https://localhost:8080/",
          "height": 34
        }
      },
      "source": [
        "#Q2\n",
        "string = '(){}{}{}{}{}'\n",
        "\n",
        "def valid_braces(string):\n",
        " braces = list(string)\n",
        " result = []\n",
        "\n",
        " for i in range(0,len(braces)-1):\n",
        "  if i % 2 <= 0:\n",
        "   result.append(list(braces[i:i+2]))\n",
        "  \n",
        " from operator import itemgetter\n",
        " result2 = []\n",
        "\n",
        " for i in range(0,round(len(braces)/2)):\n",
        "  helpline= [i,-i-1]\n",
        "  result2.append(itemgetter(*helpline)(braces))\n",
        "  \n",
        " valid = [('{', '}'), ('[', ']'), ('(', ')'),['{', '}'], ['[', ']'], ['(', ')']]\n",
        " result3 = []\n",
        " for i in range(0,round(len(braces)/2)):\n",
        "  if result2[i] in valid or\\\n",
        "     result[i] in valid:\n",
        "    result3.append(1)\n",
        "\n",
        " if len(result3) == round(len(braces)/2):\n",
        "  return('true')\n",
        " else:\n",
        "  return('false')\n",
        "\n",
        "print(valid_braces(string))\n",
        "  "
      ],
      "execution_count": 0,
      "outputs": [
        {
          "output_type": "stream",
          "text": [
            "true\n"
          ],
          "name": "stdout"
        }
      ]
    },
    {
      "cell_type": "code",
      "metadata": {
        "id": "53XtbZscg0ni",
        "colab_type": "code",
        "colab": {
          "base_uri": "https://localhost:8080/",
          "height": 34
        },
        "outputId": "757a8b43-7a16-4a6e-a5f3-87792aa97ffd"
      },
      "source": [
        "#Q3\n",
        "number = ('153')\n",
        "\n",
        "def narcissistic(number):\n",
        "  nodes = int(number)\n",
        "  length = len(list(number))\n",
        "  result = 0\n",
        "  for i in range(0,length):\n",
        "   result = nodes**length\n",
        "  return(result)\n",
        "\n",
        "print(narcissistic(number))"
      ],
      "execution_count": 32,
      "outputs": [
        {
          "output_type": "stream",
          "text": [
            "3581577\n"
          ],
          "name": "stdout"
        }
      ]
    },
    {
      "cell_type": "code",
      "metadata": {
        "id": "rtuza6M5g61T",
        "colab_type": "code",
        "colab": {
          "base_uri": "https://localhost:8080/",
          "height": 68
        },
        "outputId": "e0b91aa2-ed1e-4727-cc26-f5669fba8a51"
      },
      "source": [
        "nodes = int(number)\n",
        "print(nodes)\n",
        "length = len(list(number))\n",
        "print(length)\n",
        "result = nodes**length\n",
        "print(result)"
      ],
      "execution_count": 26,
      "outputs": [
        {
          "output_type": "stream",
          "text": [
            "153\n",
            "3\n",
            "3581577\n"
          ],
          "name": "stdout"
        }
      ]
    }
  ]
}