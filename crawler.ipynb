{
  "nbformat": 4,
  "nbformat_minor": 0,
  "metadata": {
    "colab": {
      "name": "Untitled2.ipynb",
      "provenance": [],
      "authorship_tag": "ABX9TyMHVmG+ftotulFkBYzb3lsr",
      "include_colab_link": true
    },
    "kernelspec": {
      "name": "python3",
      "display_name": "Python 3"
    }
  },
  "cells": [
    {
      "cell_type": "markdown",
      "metadata": {
        "id": "view-in-github",
        "colab_type": "text"
      },
      "source": [
        "<a href=\"https://colab.research.google.com/github/gabordun/Python_workshops/blob/master/crawler.ipynb\" target=\"_parent\"><img src=\"https://colab.research.google.com/assets/colab-badge.svg\" alt=\"Open In Colab\"/></a>"
      ]
    },
    {
      "cell_type": "code",
      "metadata": {
        "id": "GYXUcltib-en",
        "colab_type": "code",
        "colab": {}
      },
      "source": [
        "# libraries\n",
        "import requests\n",
        "from bs4 import BeautifulSoup\n",
        "import csv\n"
      ],
      "execution_count": 0,
      "outputs": []
    },
    {
      "cell_type": "code",
      "metadata": {
        "id": "y4qGr1mgcR7d",
        "colab_type": "code",
        "colab": {}
      },
      "source": [
        "# read source html\n",
        "r = requests.get(\"https://en.wikipedia.org/wiki/Rolling_Stone%27s_500_Greatest_Albums_of_All_Time\")\n",
        "doc = BeautifulSoup(r.text, \"html.parser\")\n",
        "#print(doc.prettify())\n",
        "#print(doc.get_text())\n",
        "\n",
        "for string in doc.stripped_strings:\n",
        "    print(repr(string))"
      ],
      "execution_count": 0,
      "outputs": []
    },
    {
      "cell_type": "code",
      "metadata": {
        "id": "fSGhKCiKj3pz",
        "colab_type": "code",
        "colab": {}
      },
      "source": [
        "# save the result as csv\n",
        "with open('result.csv', 'w', newline='') as csvfile:\n",
        "    pricewriter = csv.writer(csvfile, delimiter=';', quotechar='\"', quoting=csv.QUOTE_MINIMAL)\n",
        "\n",
        "    for string in doc.stripped_strings:\n",
        "        pricewriter.writerow([string])"
      ],
      "execution_count": 0,
      "outputs": []
    }
  ]
}